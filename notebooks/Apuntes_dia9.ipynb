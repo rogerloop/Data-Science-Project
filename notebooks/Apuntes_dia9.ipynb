{
 "cells": [
  {
   "cell_type": "code",
   "execution_count": 17,
   "id": "a21117ed",
   "metadata": {},
   "outputs": [
    {
     "name": "stdout",
     "output_type": "stream",
     "text": [
      "El número de filas y columnas es: (4,)\n",
      "El número de dimensiones es: 1\n",
      "El número de filas y columnas es: (2, 4)\n",
      "El número de dimensiones es: 2\n",
      "El número de elementos es: 8\n",
      "La matriz es:\n",
      " [[20 47 86 93]\n",
      " [11 87 64 55]]\n",
      "El numero de filas es :  2\n",
      "87\n",
      "La fila 1 es: [11 87 64 55]\n",
      "El numero mas pequeño de toda la matriz e:  11\n",
      "El numero mas grande de toda la matriz e:  93\n"
     ]
    }
   ],
   "source": [
    "  #Las matrices en numpy, por si no está debemos hacer las \n",
    "# >pip install numpy\n",
    "# Lo primero llamar al módulo\n",
    "import numpy as np\n",
    "\n",
    "a = np.array([14,7,25,18])  # Creamos un array unidimensional (Las matrices las genera por columnas así que esta tiene 4 filas y 1 columna)\n",
    "\n",
    "# Para er el número de filas y columnas con shape\n",
    "print(\"El número de filas y columnas es:\", a.shape)\n",
    "# Con ndim podemos ver el número de dimensiones\n",
    "print(\"El número de dimensiones es:\", a.ndim)\n",
    "\n",
    "b = np.array([[20,47, 86,93],\n",
    "              [11,87,64,55]])  # Creamos un array bidimensional \n",
    "#(Las matrices las genera por columnas así que esta tiene 2 filas y 4 columnas)\n",
    "# Para ver el número de filas y columnas con shape\n",
    "print(\"El número de filas y columnas es:\", b.shape)\n",
    "# Con ndim podemos ver el número de dimensiones\n",
    "print(\"El número de dimensiones es:\", b.ndim)\n",
    "# con el atributo size podemos ver el número de elementos\n",
    "print(\"El número de elementos es:\", b.size)\n",
    "# Para ver toda la matriz\n",
    "print(\"La matriz es:\\n\", b)\n",
    "# Para ver el numero de filas\n",
    "print(\"El numero de filas es : \", len (b))\n",
    "\n",
    "# Como acceder a un elemento concreto de la matriz\n",
    "print(b[1,1])  # Accedemos al elemento de la fila 1 y columna 1   (Los inices empiezan por 0)\n",
    "# Quiero ver una fila entera\n",
    "print(\"La fila 1 es:\", b[1,:])  # Accedemos a la fila 1 (todas las columnas)\n",
    "\n",
    "b.transpose()  # Transponemos la matriz (cambiamos filas por columnas)\n",
    "# Para ver la matriz transpuesta\n",
    "\n",
    "# Operaciones con matrices\n",
    "print(\"El numero mas pequeño de toda la matriz e: \", b.min())  # El número más pequeño de toda la matriz\n",
    "print(\"El numero mas grande de toda la matriz e: \", b.max())  # El número más grande de toda la matriz\n",
    "\n",
    "\n",
    "\n",
    "\n",
    "\n",
    "\n"
   ]
  }
 ],
 "metadata": {
  "kernelspec": {
   "display_name": ".venv",
   "language": "python",
   "name": "python3"
  },
  "language_info": {
   "codemirror_mode": {
    "name": "ipython",
    "version": 3
   },
   "file_extension": ".py",
   "mimetype": "text/x-python",
   "name": "python",
   "nbconvert_exporter": "python",
   "pygments_lexer": "ipython3",
   "version": "3.12.4"
  }
 },
 "nbformat": 4,
 "nbformat_minor": 5
}
