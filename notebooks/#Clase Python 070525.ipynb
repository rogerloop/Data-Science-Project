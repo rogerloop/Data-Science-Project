{
 "cells": [
  {
   "cell_type": "code",
   "execution_count": null,
   "id": "e46048de",
   "metadata": {},
   "outputs": [],
   "source": [
    "#Como salir de un bucle, con la instrucción break, sale de un bucle\n",
    "palabra = \"Domingo\"\n",
    "for letra in palabra:\n",
    "    if letra==\"n\":\n",
    "        break\n",
    "    print(letra)"
   ]
  },
  {
   "cell_type": "code",
   "execution_count": null,
   "id": "b1355062",
   "metadata": {},
   "outputs": [],
   "source": [
    "#Como saltar una iteración en un bucle, usaremos continue, me imprimes todo\n",
    "#menos la n, como hacer si quiero saltarme la segunda pero no la primera\n",
    "palabra = \"Clasificacion\"\n",
    "control = False\n",
    "for letra in palabra:\n",
    "    if letra==\"i\":\n",
    "        if control == True:\n",
    "            control = False\n",
    "            continue\n",
    "        control = True\n",
    "    print(letra)"
   ]
  },
  {
   "cell_type": "markdown",
   "id": "b718a876",
   "metadata": {},
   "source": [
    "Los metodos asociados a la clase str\n",
    "upper = mayusculas, lower = minusculas, split = dividir una cadena por espacios\n",
    "en blanco by default y generara una lista, join para juntar, len (numero de caracteres), contains para averiguar si una cadena contiene un valor"
   ]
  },
  {
   "cell_type": "code",
   "execution_count": null,
   "id": "2b9af9d1",
   "metadata": {},
   "outputs": [],
   "source": [
    "palabra = \"Clasificacion\"\n",
    "dir(palabra)\n",
    "print(palabra.upper())\n",
    "print(palabra.lower())\n",
    "print(palabra.replace('a','@'))"
   ]
  },
  {
   "cell_type": "code",
   "execution_count": null,
   "id": "05c7210a",
   "metadata": {},
   "outputs": [],
   "source": [
    "frase = \"El lunes os espero aqui a todos, se donde vivis\"\n",
    "frase = frase.replace(\",\",\"\")\n",
    "lista1 = frase.split()\n",
    "lista1\n",
    "#Split por defecto es espacio en blanco, pero se puede indicar el caracter\n",
    "#que lo separa, entre comillas\n",
    "frase2 = \"11/02/2025\"\n",
    "lista2 = frase2.split('/')\n",
    "lista2"
   ]
  },
  {
   "cell_type": "markdown",
   "id": "6ccf261c",
   "metadata": {},
   "source": [
    "PRACTICA 11 BIS:\n",
    "Mediante un bucle for recorrer la palabra \"Supercalifragilisticoespialidoso\"\n",
    "imprimir todas las letras por individual menos la 'a'\n",
    "Variante lo mismo pero imprimir solo hasta hasta la segunda 'l', la incluimos\n",
    "Variante2 imprimir todas las letras menos la 'a', pero mostrarlas en mayusculas\n",
    "Variante3 separar la frase por palabras indivuales, omitiendo las comas\n",
    "frase = \"Hoy#estoy#triste,#perdimos#la#champions\""
   ]
  },
  {
   "cell_type": "code",
   "execution_count": null,
   "id": "856163c1",
   "metadata": {},
   "outputs": [],
   "source": [
    "#PRACTICA 11 BIS:\n",
    "palabra = \"Supercalifragilisticoespialidoso\"\n",
    "for letra in palabra:\n",
    "    if letra==\"a\":\n",
    "        continue\n",
    "    else:\n",
    "        print(letra)"
   ]
  },
  {
   "cell_type": "code",
   "execution_count": null,
   "id": "c2d3f5c0",
   "metadata": {},
   "outputs": [],
   "source": [
    "#Imprimir solo hasta la segunda \"l\"\n",
    "palabra = \"Supercalifragilisticoespialidoso\"\n",
    "conta = 0\n",
    "for letra in palabra:\n",
    "    if letra=='l':\n",
    "        if conta>1:\n",
    "            break\n",
    "        conta+=1\n",
    "    print(letra)"
   ]
  },
  {
   "cell_type": "code",
   "execution_count": null,
   "id": "376e7bba",
   "metadata": {},
   "outputs": [],
   "source": [
    "#variante 2\n",
    "palabra = \"Supercalifragilisticoespialidoso\"\n",
    "for letra in palabra:\n",
    "    if letra==\"a\":\n",
    "        continue\n",
    "    else:\n",
    "        print(letra.upper())   #llamo a la variable letra con upper"
   ]
  },
  {
   "cell_type": "code",
   "execution_count": null,
   "id": "157e1c5b",
   "metadata": {},
   "outputs": [],
   "source": [
    "#Variante3 separar la frase por palabras indivuales, omitiendo las comas\n",
    "frase = \"Hoy#estoy#triste,#perdimos#la#champions#por#no#poner#el#autocar\"\n",
    "frase = frase.replace(',','')\n",
    "resultado = frase.split('#')\n",
    "#para ver la ultima, len me muestra por un lado el numero de caracteres \n",
    "#de una variable o el numero de elementos de una lista\n",
    "print(len(frase))\n",
    "print(len(resultado))\n",
    "resultado[len(resultado)-1]"
   ]
  },
  {
   "cell_type": "code",
   "execution_count": null,
   "id": "cd1f2a36",
   "metadata": {},
   "outputs": [],
   "source": [
    "#El metodo de la clase str, join\n",
    "lista3 = ['Enero','Febrero','Marzo']\n",
    "#Quiero juntar estos 3 elementos con un separado\n",
    "resultado = \"-\".join(lista3)\n",
    "resultado"
   ]
  },
  {
   "cell_type": "markdown",
   "id": "c5c1c3c0",
   "metadata": {},
   "source": [
    "PRACTICA 12: Partiendo de tres variables dia, mes y año, con un valor de\n",
    "07, 05, 2025, juntar los 3 valores para obtener la fecha en formato correcto\n",
    "dd/mm/yyyy\n",
    "\n",
    "PRACTICA 13: Mediante la siguiente lista [28,15,32,7,44,28,63,74], imprimir\n",
    "los valores por individual hasta que la suma de los numeros impresos, sea mayor de 180"
   ]
  },
  {
   "cell_type": "code",
   "execution_count": null,
   "id": "bebdfa1a",
   "metadata": {},
   "outputs": [],
   "source": [
    "#PRACTICA 12: Partiendo de tres variables dia, mes y año, con un valor de\n",
    "#07, 05, 2025, juntar los 3 valores para obtener la fecha en formato correcto\n",
    "#dd/mm/yyyy\n",
    "dia = \"07\"\n",
    "mes = \"05\"\n",
    "año = \"2025\"\n",
    "lista4 = [dia,mes,año]\n",
    "resultado = \"/\".join(lista4)\n",
    "print(resultado)"
   ]
  },
  {
   "cell_type": "code",
   "execution_count": null,
   "id": "a58d919a",
   "metadata": {},
   "outputs": [],
   "source": [
    "#PRACTICA 13: Mediante la siguiente lista [28,15,32,7,44,28,63,74], imprimir\n",
    "#los valores por individual hasta que la suma de los numeros impresos, \n",
    "# sea mayor de 180\n",
    "numeros1  = [28,15,32,7,44,28,63,74]\n",
    "acumulado = 0\n",
    "for numero in numeros1:\n",
    "    acumulado+=numero\n",
    "    #acumulado = acumulado + numero\n",
    "    if acumulado>180:\n",
    "        break\n",
    "    print(\"el numero de la lista es\",numero,\"y su acumulado\",acumulado)\n"
   ]
  },
  {
   "cell_type": "code",
   "execution_count": null,
   "id": "c7ba1563",
   "metadata": {},
   "outputs": [],
   "source": [
    "#El bucle while (que significa mientras)\n",
    "i = 1\n",
    "while i<=5:\n",
    "    print(i)\n",
    "    i=i+1\n",
    "#Warning, si no incremento la i bucle infinito\n",
    "print(\"Terminado\")"
   ]
  },
  {
   "cell_type": "markdown",
   "id": "aa27534f",
   "metadata": {},
   "source": [
    "PRACTICA 14: MEDIANTE UN BUCLE WHILE IMPRIMIR EL VALOR DE UNA VARIABLE i, \n",
    "CON UN VALOR INICIAL DE 20 SIEMPRE Y CUANDO EL VALOR DE I SEA MENOR DE 50\n",
    "LA VARIABLE I SE DEBERA INCREMENTAR DE 2 EN 2"
   ]
  },
  {
   "cell_type": "code",
   "execution_count": null,
   "id": "384db361",
   "metadata": {},
   "outputs": [],
   "source": [
    "i = 20\n",
    "while i<50:\n",
    "    print(\"El numero es\",i)\n",
    "    i+=2\n",
    "print(\"Terminado el bucle\")"
   ]
  },
  {
   "cell_type": "code",
   "execution_count": null,
   "id": "f8da8022",
   "metadata": {},
   "outputs": [],
   "source": [
    "#Las funciones personalizadas en python, ¿Que es una función?. Una función\n",
    "#es un codigo que devuelve un resultado, en la mayoria de veces se le tiene\n",
    "#pasar unos valores (argumentos o los parametros)\n",
    "#Como es la sintaxis en python, primero la palabra clave def, espacio,\n",
    "#el nombre de la función, no puede tener espacios en blanco, ni empezar por\n",
    "#un numero, parentesis de apertura a la izquierda, iran los parametros,\n",
    "#si hay mas de uno separado por comas, el parentesis de cierre, tambien\n",
    "#es un estructura, todo el codigo que pertenece a la funció va identado\n",
    "def suma3(x):\n",
    "    #el resultado se devuelve o bien con print o bien con return\n",
    "    #print(x+3)   #devuelve un texto\n",
    "    return x+3   #devuelve un valor\n",
    "#Una cosa es crear la función y otra cosa llamar a la función\n",
    "suma3(17)+5\n"
   ]
  },
  {
   "cell_type": "code",
   "execution_count": null,
   "id": "d87c42f5",
   "metadata": {},
   "outputs": [],
   "source": [
    "#Elimino un objeto con del\n",
    "del suma3\n",
    "%whos"
   ]
  },
  {
   "cell_type": "code",
   "execution_count": null,
   "id": "cf869ee0",
   "metadata": {},
   "outputs": [],
   "source": [
    "#Función con +1 parametro\n",
    "def sumaab(a,b):\n",
    "    #print(type(a))\n",
    "    resultado = int(a) + int(b)\n",
    "    return resultado\n",
    "#llamar a la función\n",
    "#a = input(\"pon el valor de a\")\n",
    "#b = input(\"pon el valor de b\")\n",
    "sumaab(input(\"pon el valor de a\"),input(\"pon el valor de b\"))"
   ]
  },
  {
   "cell_type": "markdown",
   "id": "a37428ef",
   "metadata": {},
   "source": [
    "PRACTICA 15: Crear una función que nos devuelva un texto que ponga\n",
    "\"el resultado es x\", y que tiene que restar 4 a un numero y divirlo por 2\n",
    "\n",
    "PRACTICA 16: Crear una función que nos devuelva el area de un triangulo\n",
    "si le pasamos la base y la altura a calcular\n",
    "\n",
    "PRACTICA 17: Crear una función que nos devuelva con un texto el nombre\n",
    "del mes, correspondiente si se pone un numero en una caja de input del\n",
    "1 al 12...Proteger si no esta entre 1-12\n",
    "\n",
    "PRACTICA 18: Crear una función que nos compare 2 numeros a i b, y nos devuelva\n",
    "con un texto las 3 posibilidades \"el numero x es mayor que y\", \"el numero x\n",
    "es menor que y\", \"el numero x e y son iguales\"\n",
    "\n",
    "en los parametros podemos pasar valores sin saber cuantos seran\n",
    "*args y *kwargs"
   ]
  },
  {
   "cell_type": "code",
   "execution_count": null,
   "id": "adfdceb7",
   "metadata": {},
   "outputs": [],
   "source": [
    "#PRACTICA 15: Crear una función que nos devuelva un texto que ponga\n",
    "#\"el resultado es x\", y que tiene que restar 4 a un numero y divirlo por 2\n",
    "def resta4d2(x):\n",
    "    resultado = (x-4)/2\n",
    "    print(\"el resultado es\",resultado)\n",
    "#Ahora la llamamos\n",
    "resta4d2(20)"
   ]
  },
  {
   "cell_type": "code",
   "execution_count": null,
   "id": "1e675246",
   "metadata": {},
   "outputs": [],
   "source": [
    "#PRACTICA 16: Crear una función que nos devuelva el area de un triangulo\n",
    "#si le pasamos la base y la altura a calcular\n",
    "def area_triangulo(base, altura):\n",
    "    resultado = (base * altura)/2\n",
    "    return resultado\n",
    "#llamar a la función\n",
    "area_triangulo(int(input(\"ponga la base\")),int(input(\"ponga la altura\")))"
   ]
  },
  {
   "cell_type": "code",
   "execution_count": null,
   "id": "2a6d8539",
   "metadata": {},
   "outputs": [],
   "source": [
    "#PRACTICA 17: Crear una función que nos devuelva con un texto el nombre\n",
    "#del mes, correspondiente si se pone un numero en una caja de input del\n",
    "#1 al 12...Proteger si no esta entre 1-12\n",
    "def mes_letras(mes):\n",
    "    match int(mes):\n",
    "        case 1:\n",
    "            print(\"Enero\")\n",
    "        case 2:\n",
    "            print(\"Febrero\")\n",
    "        case 3:\n",
    "            print(\"Marzo\")\n",
    "        case _:\n",
    "            print(\"Numero no valido\")\n",
    "#Mas optimo con una lista de meses y seria meses[mes-1]\n",
    "#llamar a la función\n",
    "mes_letras(input(\"ponga el mes en numero\"))"
   ]
  },
  {
   "cell_type": "code",
   "execution_count": null,
   "id": "0f1026b0",
   "metadata": {},
   "outputs": [],
   "source": [
    "#PRACTICA 18: Crear una función que nos compare 2 numeros a i b, y nos devuelva\n",
    "#con un texto las 3 posibilidades \"el numero x es mayor que y\", \"el numero x\n",
    "#es menor que y\", \"el numero x e y son iguales\"\n",
    "def comparaab(a,b):\n",
    "    if a>b:\n",
    "        print(\"el numero a\",a,\"es mayor que b\",b)\n",
    "    elif a<b:\n",
    "        print(\"el numero a\",a,\"es menor que b\",b)\n",
    "    else:\n",
    "        print(\"el numero a\",a,\"es igual que b\",b)\n",
    "#hago la llamada\n",
    "comparaab(25,25)"
   ]
  },
  {
   "cell_type": "markdown",
   "id": "362bea78",
   "metadata": {},
   "source": [
    "Una clase, es como una plantilla que puedo usar para crear un objeto que \n",
    "hereda sus metodos y atributos\n",
    "una clase tiene 3 elementos, metodos especiales, metodos o funciones, atributos\n",
    "(propiedades)"
   ]
  },
  {
   "cell_type": "code",
   "execution_count": null,
   "id": "5891aa8f",
   "metadata": {},
   "outputs": [],
   "source": [
    "class persona:\n",
    "    #inicializar la clase con un metodo especial, son los que llevan\n",
    "    #__nombre__, empezamos con el __init__, el parametro self, \n",
    "    def __init__(self, nombre, edad, estatura):\n",
    "        self.nombre = nombre        #Esto es un atributo    \n",
    "        self.edad = edad            #Esto es un atributo\n",
    "        self.estatura = estatura    #Esto es un atributo\n",
    "    \n",
    "    def saludar(self):              #metodo\n",
    "        #usaremos fstrings, sirve para crear una cadena con parametros\n",
    "        print(f\"Hola, soy {self.nombre} y tengo {self.edad} años\")\n",
    "    \n",
    "    def animos(self):\n",
    "        print(f\"{self.nombre} eres el/la mejor, hoy haras ventas\")\n",
    "\n",
    "#Un metodo es una función asociada a una clase, que se llama mediante\n",
    "#la anotación de un punto.\n",
    "persona1 = persona(\"Daniel\",62,1.69)\n",
    "persona2 = persona(\"Maria\",44,1.70)\n",
    "persona1.saludar()\n",
    "persona2.animos()"
   ]
  },
  {
   "cell_type": "markdown",
   "id": "459d3f8c",
   "metadata": {},
   "source": [
    "Tenemos librerias nativas y librerias externas\n",
    "las nativas no hace instalarlas en el PC, pero las externas si\n",
    "las librerias se instalan con pip o conda (anaconda)\n",
    "el pip se puede usar en el simbolo del sistema MSDOS, PowerShell, \n",
    "desde VSC o desde el terminal"
   ]
  }
 ],
 "metadata": {
  "kernelspec": {
   "display_name": "Python 3",
   "language": "python",
   "name": "python3"
  },
  "language_info": {
   "codemirror_mode": {
    "name": "ipython",
    "version": 3
   },
   "file_extension": ".py",
   "mimetype": "text/x-python",
   "name": "python",
   "nbconvert_exporter": "python",
   "pygments_lexer": "ipython3",
   "version": "3.13.2"
  }
 },
 "nbformat": 4,
 "nbformat_minor": 5
}
