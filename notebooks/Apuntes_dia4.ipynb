{
 "cells": [
  {
   "cell_type": "code",
   "execution_count": 2,
   "id": "4776d174",
   "metadata": {},
   "outputs": [
    {
     "name": "stdout",
     "output_type": "stream",
     "text": [
      "0    18\n",
      "1    12\n",
      "2    38\n",
      "3     4\n",
      "4    76\n",
      "5    52\n",
      "6    25\n",
      "7    44\n",
      "dtype: int64\n",
      "3     4\n",
      "1    12\n",
      "0    18\n",
      "6    25\n",
      "2    38\n",
      "7    44\n",
      "5    52\n",
      "4    76\n",
      "dtype: int64\n",
      "0     4\n",
      "1    12\n",
      "2    18\n",
      "3    25\n",
      "4    38\n",
      "5    44\n",
      "6    52\n",
      "7    76\n",
      "dtype: int64\n"
     ]
    }
   ],
   "source": [
    "import pandas as pd\n",
    "\n",
    "numeros = pd.Series([18,12,38,4,76,52,25,44])\n",
    "print(numeros)\n",
    "#Como ordenar una serie numerica\n",
    "print(numeros.sort_values(ascending=True))\n",
    "#Si quiero modificar el indice\n",
    "print(numeros.sort_values(ascending=True, ignore_index=True))"
   ]
  },
  {
   "cell_type": "code",
   "execution_count": 4,
   "id": "c8b0b255",
   "metadata": {},
   "outputs": [
    {
     "data": {
      "text/plain": [
       "2    38\n",
       "7    44\n",
       "5    52\n",
       "4    76\n",
       "dtype: int64"
      ]
     },
     "execution_count": 4,
     "metadata": {},
     "output_type": "execute_result"
    }
   ],
   "source": [
    "#Como filtrar valores\n",
    "numeros[numeros>30].sort_values(ascending=True)"
   ]
  },
  {
   "cell_type": "code",
   "execution_count": 20,
   "id": "b283a712",
   "metadata": {},
   "outputs": [
    {
     "name": "stdout",
     "output_type": "stream",
     "text": [
      "La varianza es  560.55\n",
      "La desviacion tipica es  23.68\n"
     ]
    }
   ],
   "source": [
    "# 2 Funciones estadisticas interesantes\n",
    "\n",
    "print(\"La varianza es \",round(numeros.var(),2))\n",
    "print(\"La desviacion tipica es \",round(numeros.std(),2))"
   ]
  },
  {
   "cell_type": "markdown",
   "id": "48d95972",
   "metadata": {},
   "source": [
    "#### PRACTICA 25\n",
    "CREAREMOS UNA SERIE NUMERICA DE PANDAS CON LOS SIGUIENTES NUMEROS:\n",
    "[34,124,81,9,81,34,124,75,18,124,81,67,22,16]\n",
    "ESTA SERIE SE LLAMARA  \"Numeros VIP\", clonaremos la serie para tener solo los numeros mayores de 50 en orden descendente y reindexado, esta serie sera \"Numeros VIP 50\" a esta nueva serie le aplicaremos una funcion por la que si el valor es menor de 80 le reste 2 y si es mayor le sume 2\n",
    ". Ver en un Textto \"El promedio de la serie es \"   Ver en un texto la varianza, Ver en un texto el número de elementos."
   ]
  },
  {
   "cell_type": "code",
   "execution_count": 28,
   "id": "dadab6a5",
   "metadata": {},
   "outputs": [
    {
     "name": "stdout",
     "output_type": "stream",
     "text": [
      "0    124\n",
      "1    124\n",
      "2    124\n",
      "3     81\n",
      "4     81\n",
      "5     81\n",
      "6     75\n",
      "7     67\n",
      "dtype: int64\n",
      "124    3\n",
      "81     3\n",
      "75     1\n",
      "67     1\n",
      "Name: count, dtype: int64\n",
      "0    126\n",
      "1    126\n",
      "2    126\n",
      "3     83\n",
      "4     83\n",
      "5     83\n",
      "6     73\n",
      "7     65\n",
      "dtype: int64\n",
      "\n",
      "El promedio de la serie es: 95.62\n",
      "La varianza de la serie es: 670.84\n",
      "El número de elementos de la serie es: 8\n"
     ]
    }
   ],
   "source": [
    "import pandas as pd\n",
    "Numeros_VIP = pd.Series([34,124,81,9,81,34,124,75,18,124,81,67,22,16])\n",
    "Numeros_VIP50 = Numeros_VIP[Numeros_VIP>50].sort_values(ascending=False, ignore_index=True)\n",
    "print(Numeros_VIP50)\n",
    "\n",
    "#Una funcion que me da el numero de veces que esta un valor\n",
    "print(Numeros_VIP50.value_counts())\n",
    "\n",
    "\n",
    "# Función: -2 si <80, +2 si >80\n",
    "def ajustar_valor(x):\n",
    "    return x - 2 if x < 80 else x + 2\n",
    "Numeros_VIP50 = Numeros_VIP50.apply(ajustar_valor)\n",
    "print(Numeros_VIP50)\n",
    "\n",
    "# Estadísticas\n",
    "promedio = round(Numeros_VIP50.mean(),2)\n",
    "varianza = round(Numeros_VIP50.var(),2)\n",
    "cantidad = round(Numeros_VIP50.count(),2)\n",
    "\n",
    "# Mostrar textos solicitados\n",
    "print(f\"\\nEl promedio de la serie es: {promedio}\")\n",
    "print(f\"La varianza de la serie es: {varianza}\")\n",
    "print(f\"El número de elementos de la serie es: {cantidad}\")\n",
    "\n"
   ]
  }
 ],
 "metadata": {
  "kernelspec": {
   "display_name": ".venv",
   "language": "python",
   "name": "python3"
  },
  "language_info": {
   "codemirror_mode": {
    "name": "ipython",
    "version": 3
   },
   "file_extension": ".py",
   "mimetype": "text/x-python",
   "name": "python",
   "nbconvert_exporter": "python",
   "pygments_lexer": "ipython3",
   "version": "3.12.4"
  }
 },
 "nbformat": 4,
 "nbformat_minor": 5
}
