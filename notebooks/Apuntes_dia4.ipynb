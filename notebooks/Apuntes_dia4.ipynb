{
 "cells": [
  {
   "cell_type": "code",
   "execution_count": null,
   "id": "4776d174",
   "metadata": {},
   "outputs": [],
   "source": [
    "import pandas as pd\n",
    "\n",
    "numeros = pd.Series([18,12,38,4,76,52,25,44])\n",
    "print(numeros)\n",
    "#Como ordenar una serie numerica\n",
    "print(numeros.sort_values(ascending=True))\n",
    "#Si quiero modificar el indice\n",
    "print(numeros.sort_values(ascending=True, ignore_index=True))"
   ]
  },
  {
   "cell_type": "code",
   "execution_count": null,
   "id": "c8b0b255",
   "metadata": {},
   "outputs": [],
   "source": [
    "#Como filtrar valores\n",
    "numeros[numeros>30].sort_values(ascending=True)"
   ]
  },
  {
   "cell_type": "code",
   "execution_count": null,
   "id": "b283a712",
   "metadata": {},
   "outputs": [],
   "source": [
    "# 2 Funciones estadisticas interesantes\n",
    "\n",
    "print(\"La varianza es \",round(numeros.var(),2))\n",
    "print(\"La desviacion tipica es \",round(numeros.std(),2))"
   ]
  },
  {
   "cell_type": "markdown",
   "id": "48d95972",
   "metadata": {},
   "source": [
    "#### PRACTICA 25\n",
    "CREAREMOS UNA SERIE NUMERICA DE PANDAS CON LOS SIGUIENTES NUMEROS:\n",
    "[34,124,81,9,81,34,124,75,18,124,81,67,22,16]\n",
    "ESTA SERIE SE LLAMARA  \"Numeros VIP\", clonaremos la serie para tener solo los numeros mayores de 50 en orden descendente y reindexado, esta serie sera \"Numeros VIP 50\" a esta nueva serie le aplicaremos una funcion por la que si el valor es menor de 80 le reste 2 y si es mayor le sume 2\n",
    ". Ver en un Textto \"El promedio de la serie es \"   Ver en un texto la varianza, Ver en un texto el número de elementos."
   ]
  },
  {
   "cell_type": "code",
   "execution_count": null,
   "id": "dadab6a5",
   "metadata": {},
   "outputs": [],
   "source": [
    "import pandas as pd\n",
    "Numeros_VIP = pd.Series([34,124,81,9,81,34,124,75,18,124,81,67,22,16])\n",
    "Numeros_VIP50 = Numeros_VIP[Numeros_VIP>50].sort_values(ascending=False, ignore_index=True)\n",
    "print(Numeros_VIP50)\n",
    "\n",
    "#Una funcion que me da el numero de veces que esta un valor\n",
    "print(Numeros_VIP50.value_counts())\n",
    "\n",
    "\n",
    "# Función: -2 si <80, +2 si >80\n",
    "def ajustar_valor(x):\n",
    "    return x - 2 if x < 80 else x + 2\n",
    "Numeros_VIP50 = Numeros_VIP50.apply(ajustar_valor)\n",
    "print(Numeros_VIP50)\n",
    "\n",
    "# Estadísticas\n",
    "promedio = round(Numeros_VIP50.mean(),2)\n",
    "varianza = round(Numeros_VIP50.var(),2)\n",
    "cantidad = round(Numeros_VIP50.count(),2)\n",
    "\n",
    "# Mostrar textos solicitados\n",
    "print(f\"\\nEl promedio de la serie es: {promedio}\")\n",
    "print(f\"La varianza de la serie es: {varianza}\")\n",
    "print(f\"El número de elementos de la serie es: {cantidad}\")\n",
    "\n"
   ]
  },
  {
   "cell_type": "markdown",
   "id": "83e3d446",
   "metadata": {},
   "source": [
    "DATAFRAMES:\n",
    "Estructuras de 2 dimensiones "
   ]
  },
  {
   "cell_type": "code",
   "execution_count": null,
   "id": "6f03bb4e",
   "metadata": {},
   "outputs": [],
   "source": [
    "import pandas as pd\n",
    "\n",
    "pedidos = pd.DataFrame([\n",
    "    {'Cliente': \"Comercial Suministros\", \"Precio\":2.75, \"Cantidad\":29},\n",
    "    {'Cliente': \"Almacenes Gómez\", \"Precio\":5.80, \"Cantidad\":52},\n",
    "    {'Cliente': \"Distribuciones Marquez\", \"Precio\":11.17, \"Cantidad\":290},\n",
    "    {'Cliente': \"Productos Industriales\", \"Precio\":4.60, \"Cantidad\":42},\n",
    "    {'Cliente': \"Tornilleria Gómez\", \"Precio\":8.72, \"Cantidad\":32}\n",
    "])\n",
    "print(pedidos)   #Sale en formato Python\n",
    "pedidos         # Sale en formato Pandas"
   ]
  },
  {
   "cell_type": "code",
   "execution_count": null,
   "id": "52d0917b",
   "metadata": {},
   "outputs": [],
   "source": [
    "# Ver los primeros n registros\n",
    "\n",
    "pedidos.head(2)\n",
    "# Ver los ultimos n registros\n",
    "pedidos.tail(2)\n",
    "# Ver solamente una serie\n",
    "pedidos['Cliente']\n",
    "# Como ver mas de un campo a la vez\n",
    "pedidos[['Precio','Cliente']]\n",
    "#Como añadir una columna/campo a un DataFrame    hay 3 maneras\n",
    "# 1 Poniendo un valor fijo\n",
    "# 2 Con la función apply\n",
    "# 3 Partiendo de una o más de una columna\n",
    "# 4 Mediante loc o iloc\n",
    "\n",
    "pedidos['Comercial'] = \"Manolo Garcia\"  # Opcion 1 poniendo valor fijo\n",
    "pedidos\n",
    "\n",
    "\n",
    "\n"
   ]
  },
  {
   "cell_type": "code",
   "execution_count": null,
   "id": "34065954",
   "metadata": {},
   "outputs": [],
   "source": [
    "pedidos['Cantidad2'] = pedidos['Cantidad'] * 2   # Opcion 3 partiendo de una o mas columnas\n",
    "pedidos"
   ]
  },
  {
   "cell_type": "code",
   "execution_count": null,
   "id": "9f97a790",
   "metadata": {},
   "outputs": [],
   "source": [
    "# 2 Con Apply\n",
    "def columna_nueva(x):\n",
    "    if x>35:\n",
    "        return x+10\n",
    "    else:\n",
    "        return x-10\n",
    "\n",
    "#Aplico la funcion     \n",
    "pedidos['Cantidad3'] = pedidos['Cantidad'].apply(columna_nueva)\n",
    "pedidos"
   ]
  },
  {
   "cell_type": "markdown",
   "id": "91762c7b",
   "metadata": {},
   "source": [
    "####    PRACTICA 26\n",
    "SOBRE EL DATAFRAME PEDIDOS:   Crear un campo nuevo que se llame (dif_cantidad) Que me de la diferencias entere la cantidad mas grande y la cantidad de cada fila"
   ]
  },
  {
   "cell_type": "code",
   "execution_count": null,
   "id": "b2bbe0cd",
   "metadata": {},
   "outputs": [],
   "source": [
    "import pandas as pd\n",
    "\n",
    "pedidos = pd.DataFrame([\n",
    "    {'Cliente': \"Comercial Suministros\", \"Precio\":2.75, \"Cantidad\":29},\n",
    "    {'Cliente': \"Almacenes Gómez\", \"Precio\":5.80, \"Cantidad\":52},\n",
    "    {'Cliente': \"Distribuciones Marquez\", \"Precio\":11.17, \"Cantidad\":290},\n",
    "    {'Cliente': \"Productos Industriales\", \"Precio\":4.60, \"Cantidad\":42},\n",
    "    {'Cliente': \"Tornilleria Gómez\", \"Precio\":8.72, \"Cantidad\":32}\n",
    "])\n",
    "\n",
    "def columna_nueva(x):\n",
    "    x = 290 - x\n",
    "    return x\n",
    "\n",
    "pedidos['dif_cantidad'] = pedidos['Cantidad'].apply(columna_nueva)\n",
    "pedidos\n",
    "\n",
    "# Solucion del profesor\n",
    "# Encontrar la cantidad más grande\n",
    "#cantidad_maxima = pedidos[\"Cantidad\"].max()\n",
    "\n",
    "# Crear la columna 'dif_cantidad' como la diferencia respecto a la cantidad máxima\n",
    "#pedidos[\"dif_cantidad\"] = cantidad_maxima - pedidos[\"Cantidad\"]\n",
    "\n",
    "# Mostrar el resultado\n",
    "#print(pedidos)"
   ]
  },
  {
   "cell_type": "markdown",
   "id": "e5811e48",
   "metadata": {},
   "source": [
    "####   PRACTICA 27\n",
    "\n",
    "Crear una columna (Precio 2) Que incremente el valor de precio en un 10% si el precio es mayor de 5.50"
   ]
  },
  {
   "cell_type": "code",
   "execution_count": null,
   "id": "a24d07f9",
   "metadata": {},
   "outputs": [],
   "source": [
    "import pandas as pd\n",
    "\n",
    "pedidos = pd.DataFrame([\n",
    "    {'Cliente': \"Comercial Suministros\", \"Precio\":2.75, \"Cantidad\":29},\n",
    "    {'Cliente': \"Almacenes Gómez\", \"Precio\":5.80, \"Cantidad\":52},\n",
    "    {'Cliente': \"Distribuciones Marquez\", \"Precio\":11.17, \"Cantidad\":290},\n",
    "    {'Cliente': \"Productos Industriales\", \"Precio\":4.60, \"Cantidad\":42},\n",
    "    {'Cliente': \"Tornilleria Gómez\", \"Precio\":8.72, \"Cantidad\":32}\n",
    "])\n",
    "\n",
    "def precio2(x):\n",
    "    if x > 5.50:\n",
    "        return x * 1.1\n",
    "    else:\n",
    "        return x\n",
    "    \n",
    "pedidos['Precio2'] = pedidos['Precio'].apply(precio2)\n",
    "pedidos"
   ]
  },
  {
   "cell_type": "code",
   "execution_count": null,
   "id": "4524cea7",
   "metadata": {},
   "outputs": [],
   "source": []
  },
  {
   "cell_type": "code",
   "execution_count": null,
   "id": "767ddfaa",
   "metadata": {},
   "outputs": [],
   "source": []
  },
  {
   "cell_type": "code",
   "execution_count": null,
   "id": "3b15faa7",
   "metadata": {},
   "outputs": [],
   "source": [
    "import pandas as pd\n",
    "#  Para cargar un  dataframe , de un fichero plano csv no hace falta bajar nada adicional\n",
    "\n",
    "January2019 = pd.read_csv('/Users/rogerdefez/Documents/VSCWorkspace/Data-Science-Project/Ciencia-de-datos-Python-Institute-PCED-30-Ed3/January 2019.csv')\n",
    "January2019\n",
    "\n",
    "February2019 = pd.read_csv('/Users/rogerdefez/Documents/VSCWorkspace/Data-Science-Project/Ciencia-de-datos-Python-Institute-PCED-30-Ed3/February 2019.csv')\n",
    "February2019"
   ]
  },
  {
   "cell_type": "code",
   "execution_count": null,
   "id": "9215c79a",
   "metadata": {},
   "outputs": [],
   "source": [
    "# Como ver informacion sobre el DAtaFrame\n",
    "January2019.info()"
   ]
  },
  {
   "cell_type": "code",
   "execution_count": null,
   "id": "6eb95bbf",
   "metadata": {},
   "outputs": [],
   "source": [
    "# Los 5 primeros nombres de clientes ordenados de la a a la z\n",
    "\n",
    "January2019['Customer'].head(5).sort_values(ascending=True)"
   ]
  },
  {
   "cell_type": "code",
   "execution_count": null,
   "id": "59419bd7",
   "metadata": {},
   "outputs": [],
   "source": [
    "# Como crear una columna y como eliminarla\n",
    "\n",
    "January2019['Aeliminar'] = \"A eliminar\"\n",
    "January2019\n",
    "# Como eliminar, con drop eliminamos, con drop + axis =1 columansa\n",
    "# con drop + axis = 0 para eliminar filas\n",
    "#January2019 = January2019.drop(['Aeliminar'],axis=1)\n",
    "#January2019\n",
    "# Alternativa : El inplace\n",
    "January2019.drop(['Aeliminar'],axis=1,inplace=True)\n",
    "January2019\n",
    "# En todos los sistemas la importacion es de lecturas\n",
    "# Eliminamos una fila\n",
    "January2019.drop([2],axis=0,inplace=True)\n",
    "January2019\n",
    "\n"
   ]
  },
  {
   "cell_type": "code",
   "execution_count": null,
   "id": "11ec4557",
   "metadata": {},
   "outputs": [],
   "source": [
    "#Ver los primeros 3 registrosvcuyas Units sean mayor de 100\n",
    "January2019[January2019['Units']>100].sort_values(ascending=True, by=\"IdOrder\").head(3)"
   ]
  },
  {
   "cell_type": "code",
   "execution_count": null,
   "id": "01e2e7c5",
   "metadata": {},
   "outputs": [],
   "source": [
    "# Vamos a ver los registros cuy nombre de de Customers contenga la palabra de Industries\n",
    "# el accesor, el accesor str\n",
    "January2019[January2019['Customer'].str.contains('Industries')].tail(10)"
   ]
  },
  {
   "cell_type": "code",
   "execution_count": null,
   "id": "2791b752",
   "metadata": {},
   "outputs": [],
   "source": [
    "#  Para ver los paises que contienen C\n",
    "\n",
    "filtro = January2019['Country'].str.contains('C.*')\n",
    "January2019[filtro]"
   ]
  },
  {
   "cell_type": "code",
   "execution_count": null,
   "id": "335f1b2c",
   "metadata": {},
   "outputs": [],
   "source": [
    "#  Para ver los paises que contienen Industries o industries\n",
    "\n",
    "filtro = January2019['Customer'].str.contains('[Ii]ndustries')\n",
    "January2019"
   ]
  },
  {
   "cell_type": "code",
   "execution_count": null,
   "id": "7c833c9d",
   "metadata": {},
   "outputs": [],
   "source": [
    "# Como anexar 2 dataframes , con concat, para anexar 2 dataframes deben tener la misma estructura\n",
    "#Significa mismas columnas y con los mismos nombres\n",
    "\n",
    "dosmeses = pd.concat([January2019,February2019],ignore_index=True)\n",
    "dosmeses"
   ]
  },
  {
   "cell_type": "markdown",
   "id": "bb89ab49",
   "metadata": {},
   "source": [
    "#### PRACTICA 28:\n",
    "Queremos tener un DataFrame clonado de January2019 que contenga solamente los customers cuy nombre contanga la palabra \"Systems\" y ordenados ade a a z"
   ]
  },
  {
   "cell_type": "code",
   "execution_count": null,
   "id": "50a39fde",
   "metadata": {},
   "outputs": [],
   "source": [
    "ClonJanuary2019 = January2019[January2019['Customer'].str.contains('Systems')].sort_values(by = 'Customer', ascending=True)\n",
    "ClonJanuary2019"
   ]
  },
  {
   "cell_type": "markdown",
   "id": "818dee83",
   "metadata": {},
   "source": [
    "#### PRACTICA 29:\n",
    "Queremos ver en un texto el número de customers cuyo nombre termina por n  de la tabla dosmeses\n"
   ]
  },
  {
   "cell_type": "code",
   "execution_count": null,
   "id": "ad1396a6",
   "metadata": {},
   "outputs": [],
   "source": [
    "print(\"El número de registros que terminan con n es: \", \n",
    "      dosmeses[dosmeses['Customer'].str.endswith('n')].IdOrder.count())\n"
   ]
  },
  {
   "cell_type": "markdown",
   "id": "2eabc29e",
   "metadata": {},
   "source": [
    "#### PRACTICA 30:\n",
    "Queremos una lista donde ver los 10 primeros customers cuyo country sea Canada"
   ]
  },
  {
   "cell_type": "code",
   "execution_count": null,
   "id": "aa1bcb93",
   "metadata": {},
   "outputs": [],
   "source": [
    "dosmeses[dosmeses['Country']=='Canada'].head(10)"
   ]
  },
  {
   "cell_type": "markdown",
   "id": "9656a65f",
   "metadata": {},
   "source": [
    "#### PRACTICA 31:\n",
    "Queremos tener en un dataframe los meses de January a March y ver la suma total de Revenue, despues de aplicar un descuento del 5.63% si el Country es Colombia, sinó no hay descuento"
   ]
  },
  {
   "cell_type": "code",
   "execution_count": null,
   "id": "6dd81d17",
   "metadata": {},
   "outputs": [],
   "source": [
    "January2019 = pd.read_csv('/Users/rogerdefez/Documents/VSCWorkspace/Data-Science-Project/Ciencia-de-datos-Python-Institute-PCED-30-Ed3/January 2019.csv')\n",
    "\n",
    "February2019 = pd.read_csv('/Users/rogerdefez/Documents/VSCWorkspace/Data-Science-Project/Ciencia-de-datos-Python-Institute-PCED-30-Ed3/February 2019.csv')\n",
    "\n",
    "March2019 = pd.read_csv('/Users/rogerdefez/Documents/VSCWorkspace/Data-Science-Project/Ciencia-de-datos-Python-Institute-PCED-30-Ed3/March 2019.csv')\n",
    "\n",
    "trimestre = pd.concat([January2019,February2019,March2019],ignore_index=True)\n",
    "trimestre\n",
    "\n",
    "# Voy a tener  un objeto con los registros de Colombia\n",
    "# Voy a tener  un objeto con los registros que no sean de Colombia\n",
    "\n",
    "trimestreC = trimestre[trimestre['Country']==\"Colombia\"]\n",
    "trimestreC\n",
    "\n",
    "trimestreNC = trimestre[trimestre['Country']!=\"Colombia\"]\n",
    "trimestreNC\n",
    "\n",
    "#Aplico el descuento % en Colombia\n",
    "trimestreC['Revenue'] = trimestreC['Revenue']*(1-0.0563)\n",
    "\n",
    "trimestrefinal = pd.concat([trimestreC,trimestreNC],ignore_index=True)\n",
    "\n",
    "\n",
    "\n",
    "#def descuento(Country):\n",
    "#    if Country==\"Colombia\":\n",
    "#        return 0.0563\n",
    "#    else return 0\n",
    "#partiria del trimestre\n",
    "#trimestre['Revenue'] = (1-trimestre['Country'].apply(descuento))*trimestre['Revenue']"
   ]
  },
  {
   "cell_type": "code",
   "execution_count": null,
   "id": "2911c6d6",
   "metadata": {},
   "outputs": [],
   "source": [
    "# Ventas Grocery meses\n",
    "# Como cargar un fichero de excel : Tenemos que cargar una libreria openpyxl \n",
    "# Con excel tendre que decir el archivo que quiero y la hoja del archivo\n",
    "\n",
    "import pandas as pd\n",
    "\n",
    "#Creo una variable con el fichero para evitar tener que hacer cambios\n",
    "\n",
    "fichero = '/Users/rogerdefez/Documents/VSCWorkspace/Data-Science-Project/Datos para ejercicios/VentasGroucery_Meses.xlsx'\n",
    "\n",
    "hojaAgosto ='Ventas Agosto 2014' \n",
    "Agosto2014 = pd.read_excel(fichero,sheet_name=hojaAgosto)\n",
    "Agosto2014\n",
    "\n"
   ]
  }
 ],
 "metadata": {
  "kernelspec": {
   "display_name": ".venv",
   "language": "python",
   "name": "python3"
  },
  "language_info": {
   "codemirror_mode": {
    "name": "ipython",
    "version": 3
   },
   "file_extension": ".py",
   "mimetype": "text/x-python",
   "name": "python",
   "nbconvert_exporter": "python",
   "pygments_lexer": "ipython3",
   "version": "3.12.4"
  }
 },
 "nbformat": 4,
 "nbformat_minor": 5
}
