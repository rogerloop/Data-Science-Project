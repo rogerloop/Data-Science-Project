{
 "cells": [
  {
   "cell_type": "markdown",
   "id": "3ccd2ec1",
   "metadata": {},
   "source": [
    "Con la almohadilla hacemos una linea de comentario en un blqoue de python\n",
    "Con \"\"\" de inicio y \"\"\" de fin, seria para un parrafo\n",
    "las variables en python, no se declaran si no que se asignan o se reasignan\n",
    "en python, fuertemente tipado, distingue mayus de minus"
   ]
  },
  {
   "cell_type": "code",
   "execution_count": null,
   "id": "25232ce4",
   "metadata": {},
   "outputs": [],
   "source": [
    "#Esto es un comentario\n",
    "x=5\n",
    "X=3"
   ]
  },
  {
   "cell_type": "code",
   "execution_count": null,
   "id": "4c98078a",
   "metadata": {},
   "outputs": [],
   "source": [
    "#Para ver los objetos del kernel, solo funciona para jupyter\n",
    "%whos"
   ]
  },
  {
   "cell_type": "code",
   "execution_count": null,
   "id": "43883fc0",
   "metadata": {},
   "outputs": [],
   "source": [
    "#Como ver el output, de 2 maneras, la primera poniendo solamente el valor, pero\n",
    "#me mostrara solo el ultimo\n",
    "#segundo con la función print, me mostrara todos las salidas de pantalla\n",
    "x=5\n",
    "X=3\n",
    "print(x+X)\n",
    "print()   #linea en blanco\n",
    "print(x+6)"
   ]
  },
  {
   "cell_type": "code",
   "execution_count": null,
   "id": "329555ec",
   "metadata": {},
   "outputs": [],
   "source": [
    "#Como introducir datos por parte del usuario, con input\n",
    "valor = input(\"Ponga su nombre\")\n",
    "print(\"Su nombre es\",valor)"
   ]
  },
  {
   "cell_type": "markdown",
   "id": "c0429d08",
   "metadata": {},
   "source": [
    "Cuando asigno un valor a una variable, se define el tipo de variable\n",
    "x=5, significa que x es una variable numerica, int = integer\n",
    "y=6.87 significa que y es una variable float = decimal\n",
    "dia = \"Lunes\" significa que es un string o cadena\n",
    "estado = True significa que es un booleano (True or False)\n",
    "dia = \"Lunes\", es crear una instancia de la clase string (str)\n",
    "Una clase es una plantilla para crear objetos, las clases tiene atributos, metodos,\n",
    "metodos especiales, hereda sus metodos y atributos"
   ]
  },
  {
   "cell_type": "code",
   "execution_count": null,
   "id": "5da06b22",
   "metadata": {},
   "outputs": [],
   "source": [
    "dia = \"lunes\"\n",
    "dia.upper()\n",
    "dia.lower()\n",
    "#Como ver de que tipo es\n",
    "#dia.__class__\n",
    "type(dia)\n",
    "#Como ver los metodos, atributos, metodos especiales de una clase o de un objeto instancia\n",
    "# de una clase con dir\n",
    "#dir(dia)\n",
    "dia.islower()"
   ]
  },
  {
   "cell_type": "markdown",
   "id": "826ffc31",
   "metadata": {},
   "source": [
    "El resultado de input es un texto, aunque tu escribas un numero"
   ]
  },
  {
   "cell_type": "code",
   "execution_count": null,
   "id": "273eb4ac",
   "metadata": {},
   "outputs": [],
   "source": [
    "valor = input(\"Pon un numero\")\n",
    "#Mediante una función puedo cambiar el tipo, con int, con float, con str, con bool\n",
    "int(valor) + 6\n",
    "#Los decimales van con punto 1.78 \n",
    "#cuando tienes 2 objetos separados por un =, el objeto de la izquierda, coge el valor del\n",
    "#objeto de la derecha\n",
    "valor = int(valor)"
   ]
  },
  {
   "cell_type": "markdown",
   "id": "6c7bfb14",
   "metadata": {},
   "source": [
    "las estructuras en Python; Estructuras de datos básicas. Listas, colección de elementos\n",
    "ordenados y mutables (se puede modificar despues de haber sido creado), tuplas, diccionarios, \n",
    "conjuntos"
   ]
  },
  {
   "cell_type": "code",
   "execution_count": null,
   "id": "6d68c355",
   "metadata": {},
   "outputs": [],
   "source": [
    "#Vamos a crear una lista, la lista es hetereogenea, puede contener elementos de diferentes\n",
    "#tipos. La lista va con corchetes []\n",
    "#frutas es una instancia de la clase list, por tanto heredo sus metodos y atributos\n",
    "#un metodo es una función asociada a una clase, que se llama mediante la anotación de un punto\n",
    "frutas = []   #Asi es lista en blanco\n",
    "frutas = ['Kiwi','Naranja','Pera','Melón']\n",
    "frutas\n",
    "#Como ver un elemento de la lista, llamando a su indice (empiezan por 0)\n",
    "frutas[2]\n",
    "#Metodos interesantes de list, append (añade un elemento a una lista), \n",
    "# insert (inserta un elemento en una posicion), .remove (eliminar el primer elemento que cumple\n",
    "# la condición), clear (elimina todos elementos), el sort (ordena los elementos), reverse (me\n",
    "# muestra la lista al reves), count me muestra cuantas veces esta repetido un valor\n",
    "# con del frutas[0] eliminaria el primer elemento\n",
    "frutas.append(\"Sandia\")\n",
    "frutas\n",
    "frutas.insert(1,'Fresas')\n",
    "frutas"
   ]
  },
  {
   "cell_type": "code",
   "execution_count": null,
   "id": "aaeed550",
   "metadata": {},
   "outputs": [],
   "source": [
    "frutas.append(\"Papaya\")\n",
    "frutas"
   ]
  },
  {
   "cell_type": "code",
   "execution_count": null,
   "id": "ffb90ae1",
   "metadata": {},
   "outputs": [],
   "source": [
    "#Contar cuantas veces sale papaya, con count\n",
    "frutas.count(\"Papaya\")"
   ]
  },
  {
   "cell_type": "code",
   "execution_count": null,
   "id": "b57d6f30",
   "metadata": {},
   "outputs": [],
   "source": [
    "#Ordenar la lista con sort, es que modifica el original, sin necesidad del igual\n",
    "frutas.sort()\n",
    "print(frutas)"
   ]
  },
  {
   "cell_type": "markdown",
   "id": "0366a3e3",
   "metadata": {},
   "source": [
    "Estructuras de control en Python, el condicional if, if analiza una condición o prueba logica\n",
    "y si se cumple ejecuta una parte verdadera. Es tipo bloque\n",
    "if prueba_logica:\n",
    "    Aqui la linea de codigo verdadero   "
   ]
  },
  {
   "cell_type": "code",
   "execution_count": null,
   "id": "5f5d5386",
   "metadata": {},
   "outputs": [],
   "source": [
    "#Operadores de comparación\n",
    "#> mayor que\n",
    "#< menor que\n",
    "#>= mayor o igual que\n",
    "#<= menor o igual\n",
    "#== igual que\n",
    "#!= distinto que\n",
    "edad = 44\n",
    "if edad<=18:\n",
    "    print(\"Menor de edad\")\n",
    "elif edad<65:\n",
    "    print(\"Mayor de edad\")\n",
    "else:\n",
    "    print(\"No activo\")\n",
    "print(\"Terminado\")"
   ]
  },
  {
   "cell_type": "code",
   "execution_count": null,
   "id": "777300e5",
   "metadata": {},
   "outputs": [],
   "source": [
    "#Estructura match...case, solo disponibles a partir de la versión 3.10 de Python, solo\n",
    "#reconoce valores exactas, operadores de logica & = AND o el | = OR\n",
    "dia = \"viernes\"\n",
    "match dia:\n",
    "    case \"lunes\":\n",
    "        print(\"Depresión\")\n",
    "    case \"sabado\" | \"domingo\":\n",
    "        print(\"Alegria\")\n",
    "    case \"martes\" | \"miercoles\":\n",
    "        print(\"Soportable\")\n",
    "    case \"jueves\":\n",
    "        print(\"Me empiezo a animar\")\n",
    "    case default:\n",
    "        print(\"Empiezo lo bueno\")\n",
    "#Alternativa a default, seria\n",
    "#case _: = cualquier valor"
   ]
  },
  {
   "cell_type": "code",
   "execution_count": null,
   "id": "d7c554c1",
   "metadata": {},
   "outputs": [],
   "source": [
    "#La estructura bucle, ¿Que es un bucle? Es un codigo que se repite hasta que se cumple\n",
    "#una condición dada, 2 tipos de bucles, los finitos y los infinitos, los finitos son aquellos\n",
    "#que van a terminar si o si, porque sabemos de antemano el numero de veces que se ejecutara el\n",
    "#bucle, cada vez que se ejecuta el bucle se llama iteración. Los bucles infinitos, puede que \n",
    "#terminen o puede que no. finitos = bucle for, infinitos el while\n",
    "#los bucles for llevan una variable asociada\n",
    "for i in [1,2,3,4,5]:\n",
    "    print(\"El valor de i es\",i)"
   ]
  },
  {
   "cell_type": "code",
   "execution_count": null,
   "id": "635340e9",
   "metadata": {},
   "outputs": [],
   "source": [
    "for i in [15,28,33,64]:\n",
    "    print(\"El valor de i es\",i)"
   ]
  },
  {
   "cell_type": "code",
   "execution_count": null,
   "id": "c6624998",
   "metadata": {},
   "outputs": [],
   "source": [
    "for i in ['Lunes','Martes','Miercoles','Jueves','Viernes']:\n",
    "    print(\"El valor de i es\",i)"
   ]
  },
  {
   "cell_type": "code",
   "execution_count": null,
   "id": "a1a14e6a",
   "metadata": {},
   "outputs": [],
   "source": [
    "semana = ['Lunes','Martes','Miercoles','Jueves','Viernes']\n",
    "for dia in semana:\n",
    "    print(\"El dia de la semana es\",dia)"
   ]
  },
  {
   "cell_type": "code",
   "execution_count": null,
   "id": "6b8ae966",
   "metadata": {},
   "outputs": [],
   "source": [
    "#Como controlar el numero de iteración, con una variable aparte\n",
    "semana = ['Lunes','Martes','Miercoles','Jueves','Viernes']\n",
    "iter = 1\n",
    "for dia in semana:\n",
    "    print(\"El dia de la semana es\",dia)\n",
    "    print(\"la iteración es la\",iter)\n",
    "    iter = iter + 1  #Version amateur\n",
    "    #iter+=1          #Version pro\n",
    "print(iter-1)"
   ]
  },
  {
   "cell_type": "code",
   "execution_count": null,
   "id": "76dbe94f",
   "metadata": {},
   "outputs": [],
   "source": [
    "#El objeto range, retorna una sucesión de numero enteros, cuando se le pasa un unico argumento\n",
    "#me muestra una lista que empieza por 0 y termina con el numero - 1\n",
    "numeros = range(10)\n",
    "#para ver la lista completa, usare list\n",
    "print(list(numeros))"
   ]
  },
  {
   "cell_type": "code",
   "execution_count": null,
   "id": "4aa4b57d",
   "metadata": {},
   "outputs": [],
   "source": [
    "numeros = range(8,25)\n",
    "#para ver la lista completa, usare list\n",
    "print(list(numeros))"
   ]
  },
  {
   "cell_type": "code",
   "execution_count": null,
   "id": "5d82e905",
   "metadata": {},
   "outputs": [],
   "source": [
    "#Numero inicial, numero final, step el paso\n",
    "numeros = range(8,25,2)\n",
    "#para ver la lista completa, usare list\n",
    "print(list(numeros))"
   ]
  },
  {
   "cell_type": "code",
   "execution_count": null,
   "id": "ff171747",
   "metadata": {},
   "outputs": [],
   "source": [
    "numeros = range(30,10,-2)\n",
    "#para ver la lista completa, usare list\n",
    "print(list(numeros))"
   ]
  },
  {
   "cell_type": "code",
   "execution_count": null,
   "id": "c20041f4",
   "metadata": {},
   "outputs": [],
   "source": [
    "for i in range(10,20,2):\n",
    "    print(i)"
   ]
  },
  {
   "cell_type": "markdown",
   "id": "fe6664d5",
   "metadata": {},
   "source": [
    "con break salgo de un bucle y con continue salto una iteración de un bucle\n"
   ]
  }
 ],
 "metadata": {
  "kernelspec": {
   "display_name": "Python 3",
   "language": "python",
   "name": "python3"
  },
  "language_info": {
   "codemirror_mode": {
    "name": "ipython",
    "version": 3
   },
   "file_extension": ".py",
   "mimetype": "text/x-python",
   "name": "python",
   "nbconvert_exporter": "python",
   "pygments_lexer": "ipython3",
   "version": "3.13.2"
  }
 },
 "nbformat": 4,
 "nbformat_minor": 5
}
