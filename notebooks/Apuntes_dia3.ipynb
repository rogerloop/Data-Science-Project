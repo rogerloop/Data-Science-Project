{
 "cells": [
  {
   "cell_type": "markdown",
   "id": "dac65785",
   "metadata": {},
   "source": [
    "               2025-05-12 - APUNTES CLASE DIA 3 - - - -"
   ]
  },
  {
   "cell_type": "markdown",
   "id": "edbf3cfb",
   "metadata": {},
   "source": [
    "###  PRACTICA 20:\n",
    "Crear una clase rectangulo, con atributos ancho y alto, Qur incluya además los métodos area y perimetro . Probar con la onstancia RECT1 de ancho 75 y alto 125 para utilizar sus metodos "
   ]
  },
  {
   "cell_type": "code",
   "execution_count": null,
   "id": "e5369466",
   "metadata": {},
   "outputs": [],
   "source": [
    "class rectangulo:\n",
    "    def __init__(self, ancho, alto):\n",
    "        self.ancho = ancho\n",
    "        self.alto = alto\n",
    "\n",
    "    def area(self):\n",
    "        return self.ancho * self.alto\n",
    "\n",
    "    def perimetro(self):\n",
    "        return 2 * (self.ancho + self.alto)\n",
    "\n",
    "RECT1 = rectangulo(75, 125)\n",
    "\n",
    "print(f\"Área de RECT1: {RECT1.area()}\")\n",
    "print(f\"Perímetro de RECT1: {RECT1.perimetro()}\")"
   ]
  },
  {
   "cell_type": "markdown",
   "id": "95c74843",
   "metadata": {},
   "source": [
    "Hay una gran variedad de librerias nativas. No es necesario hacer instalación extra para usarlas\n",
    "Manipular datos: math\n",
    "statistics\n",
    "random\n",
    "decimal\n",
    "Manipular cadenas:\n",
    "re\n",
    "textwrap\n",
    "string (str)\n",
    "Manipular archivos/directorios: \n",
    "io\n",
    "shutil\n",
    "pathlib (Objetos de rutas de archivos)\n",
    "Manipular fechas/hotrarios:\n",
    "time: Operaciones relacionadas con el tiempo (Bajo nivel)\n",
    "datetime: Operaciones relacionadas con el tiempo (alto nivel)\n",
    "calendar: para trabajar con calendarios\n",
    "\n",
    "¿Como llamar a una libreria?\n",
    "Una libreria contienen clases , funciones y objetos\n",
    "Llamamos:   \" Import libreria from\"\n",
    "import pandas: Importa toda la libreria\n",
    "import panda as pd\n",
    "ventas = pd.Dataframe (Llamo a la clase Dataframe de pandas)\n",
    "\n",
    "from pandas import Dataframe:  En este caso solo estoy importando la clase Dataframe de la libreria pandas\n",
    "\n",
    "from pandas import Dataframe, Series, ....   importamos varias clases\n",
    "\n"
   ]
  },
  {
   "cell_type": "code",
   "execution_count": null,
   "id": "aff47f4e",
   "metadata": {},
   "outputs": [],
   "source": [
    "# Con la libreria datetime clase date (libreira datetime permite trabajar fechas y horas, \n",
    "#date solo trabaja con fechas, si quiero trabajar con horas tendre que importar datetime)\n",
    "from datetime import date\n",
    "from datetime import datetime\n",
    "\n",
    "\n",
    "hoy= date.today()\n",
    "print(hoy)\n",
    "\n",
    "hoy = date.today()\n",
    "print(hoy)\n",
    "\n",
    "#llamar y poner un alias a libreria datetime\n",
    "from datetime import date as fecha\n",
    "\n",
    "hoy2 = fecha.today()\n",
    "print(hoy2)\n",
    "\n",
    "#llamamos a los atributtos por separado\n",
    "print (\"el dia de hoy es, \", hoy.day)\n",
    "print (\"el dia de hoy es, \", hoy.month)\n",
    "print (\"el dia de hoy es, \", hoy.year)\n",
    "\n",
    "#También lo puedo llamar directamente\n",
    "print(\"El dia de hoy es\", fecha.today().day)\n",
    "\n",
    "\n",
    "\n",
    "\n",
    "\n",
    "\n",
    "\n"
   ]
  },
  {
   "cell_type": "code",
   "execution_count": null,
   "id": "1b01db68",
   "metadata": {},
   "outputs": [],
   "source": [
    "\n",
    "from datetime import datetime       #PAra trabajar con fechas y horas\n",
    "\n",
    "ahora = datetime.now()  #fecha + hora actual\n",
    "print (ahora)\n",
    "#Vamos a llamar a los atributos por separado\n",
    "print (\"Las hora actual es\", ahora.hour)\n",
    "print (\"Las minutos actuales son\", ahora.minut)\n",
    "print (\"Las segundos actuales son\", ahora.second)\n",
    "print (\"Las microsegundos actuales son\", ahora.microsecondsecond)"
   ]
  },
  {
   "cell_type": "code",
   "execution_count": null,
   "id": "760158be",
   "metadata": {},
   "outputs": [],
   "source": [
    "# ¿Como asignar una fecha concreta,?,, usaremos directamente la clase\n",
    "\n",
    "from datetime import date as fecha\n",
    "\n",
    "#Primero año, luego mes y despues dia\n",
    "fecha1 = fecha(2025,11,22)\n",
    "print(fecha1)\n",
    "\n",
    "# Puedo comparar varios objetos si son de la misma clase (date con date y datetime con datetime)\n",
    "\n",
    "fecha2= fecha(2025,12,16)\n",
    "if fecha2 > fecha1:\n",
    "    print (\"La fecha\", fecha2, \"es mayor que \", fecha1)\n",
    "\n",
    "    "
   ]
  },
  {
   "cell_type": "code",
   "execution_count": null,
   "id": "8f5a3e87",
   "metadata": {},
   "outputs": [],
   "source": [
    "# Podemos restar 2 fechas, el resultado son los días transcurridos, siempre la fecha más nueva menos la más antigua\n",
    "\n",
    "dias = fecha2 - fecha1\n",
    "#Atributo de resta entre 2 fechas \n",
    "print(\"El número de días transcurridos es, \", dias.days)\n",
    "\n"
   ]
  },
  {
   "cell_type": "markdown",
   "id": "d99d4c02",
   "metadata": {},
   "source": [
    "#####  PRACTICA 21:   \n",
    "VAMOS A RESTAR 2 FECHAS, LA PRIMERA 11/04/2025 Y LA SEGUNAD EL DIA ACTUAL, CON UNA ESTRUCTURA DE DECISIÓN IF , DEVOLVER EL TEXTTO \"Distancia inferior a 3 meses\" , SI EL NÚMERO DE DIAS DE DIFERENCIA ES MENOR DE 180\n",
    "\n"
   ]
  },
  {
   "cell_type": "code",
   "execution_count": null,
   "id": "a25e2e4d",
   "metadata": {},
   "outputs": [],
   "source": [
    "from datetime import date \n",
    "\n",
    "actual = date.today()\n",
    "dia = date(2025-04-11)\n",
    "resultado = actual-dia\n",
    "# Tener un objeto con la resta de las 2 fechas \n",
    "if (resultado.days) < 90:\n",
    "    print (\"Distancia inferior a 3 meses\")\n",
    "else:\n",
    "    print(\"hace más de 3 meses\")\n",
    "\n",
    "\n",
    "\n"
   ]
  },
  {
   "cell_type": "markdown",
   "id": "e6e6de13",
   "metadata": {},
   "source": [
    "####    PRACTICA 22:\n",
    "CREAR UNA FUNCION QUE MEDIANTE UN IMPUT, SE ESZCRIBA UNA FECHA SEPARADA POR @ \n",
    "11@05@2025 , NOS AJUSTE UN OBJETO CON ESA FECHA INDICADA"
   ]
  },
  {
   "cell_type": "code",
   "execution_count": null,
   "id": "285ef95d",
   "metadata": {},
   "outputs": [],
   "source": [
    "from datetime import date\n",
    "\n",
    "def paamefecha(tiempo):\n",
    "    # tiempo separado por la @, tiempo es una str, split. podemos separar con @\n",
    "    dato = tiempo.split(\"@\")\n",
    "    #Constrire la fecha \n",
    "    resultado= date(int(dato[2]), (dato[1]), (dato[0]))    \n",
    "    print(dato[0])\n",
    "    print(dato[1])\n",
    "    print(dato[2])\n",
    "# Seria la llamada a la funcion\n",
    "\n",
    "pasamefecha(input(\"coloca la fecha entre @, ejemplo dia@mes@año\"))\n"
   ]
  },
  {
   "cell_type": "code",
   "execution_count": null,
   "id": "72437186",
   "metadata": {},
   "outputs": [],
   "source": [
    "# Como dar formato a una fecha?  Usaremos el metodo string format time strftime de la clase date, devuelve un texto\n",
    "\n",
    "print (hoy.day)\n",
    "\n",
    "print(\"El dia de hoy es, \", hoy.strftime('%d'))      #Es en formato texto \n",
    "print(\"El dia de hoy es, \", hoy.strftime('%A'))      #Es texto  Dael dia en letras\n",
    "print(\"El dia de la semana es, \", hoy.strftime('%w'))      #Es en formato texto   dia de la semana del 1 al 7\n",
    "print(\"El dia de hoy es, \", hoy.strftime('%m'))      #Es en formato textop \n",
    "print(\"El dia de hoy es, \", hoy.strftime('%B'))     # Es el mes en letras\n",
    "print(\"El dia de hoy es, \", hoy.strftime('%b'))     # Es el mes en letras abreviado\n",
    "print(\"Los 2 últimos digitos del año de hoy es, \", hoy.strftime('%y')) \n",
    "print(\"LEl año entero de hoy es, \", hoy.strftime('%Y'))   \n",
    "print(\"Semana del año de hoy es, \", hoy.strftime('%W'))       \n",
    "\n",
    "# Puedo crear mi formato personalizado\n",
    "\n",
    "print(\"Formato personalizado, \", hoy.strftime('%%d/%m/%Y'))    #para formato dd/mm/yyyy\n",
    "print(\"Formato personalizado, \", hoy.strftime('%A %B %Y'))    \n",
    "\n",
    "\n"
   ]
  },
  {
   "cell_type": "code",
   "execution_count": null,
   "id": "61cea69b",
   "metadata": {},
   "outputs": [],
   "source": [
    "# Formato de hora\n",
    "\n",
    "froma datetime import datetime\n",
    "ahora =datetime.now()\n",
    "\n",
    "#Quiero ver la hora\n",
    "primnt(\"La hora es\", ahora.strftime('%H'))\n",
    "\n",
    "primnt(\"La minuto es\", ahora.strftime('%M'))\n",
    "\n",
    "primnt(\"La segundo es\", ahora.strftime('%S'))\n",
    "\n",
    "primnt(\"La hora es\", ahora.strftime('%H:%M:%S'))"
   ]
  },
  {
   "cell_type": "code",
   "execution_count": null,
   "id": "cc27a011",
   "metadata": {},
   "outputs": [],
   "source": [
    "# Clase de datetime que se llama timedelta: Permite incrementar o decrementar tiempo\n",
    "\n",
    "from datetime import date, timedelta\n",
    "\n",
    "hoy = date.today()\n",
    "#incrementar 10 dias\n",
    "resultado = hoy + timedelta(days=10,)\n",
    "print(resultado)\n",
    "\n",
    "#-------------------------\n",
    "\n",
    "from datetime import datetime, timedelta\n",
    "\n",
    "hoy = date.today()\n",
    "#incrementar 10 dias\n",
    "resultado2 = hoy + timedelta(days=10, hours=8, minuts=40, seconds=40)\n",
    "print(resultado2)\n",
    "\n",
    "#Incrementar con el + decrementar con el -"
   ]
  },
  {
   "cell_type": "code",
   "execution_count": null,
   "id": "3d905a4c",
   "metadata": {},
   "outputs": [],
   "source": []
  },
  {
   "cell_type": "markdown",
   "id": "cca12c99",
   "metadata": {},
   "source": [
    "#### PRACTIICA 23:\n",
    "TENDREMOS 4 LISTAS , LA PRIMERA CONTENDRA FECHAS, LA SEGUNDA LOS DIAS A INCREMENTAR, LA TERCERA LAS HORAS A INCREMENTAR, Y LA CUARTA LOS MINUTOS A INCREMENTAR\n",
    "QUEREMOS TENER EN UNA LISTA EL RESULTADO FINAL PARTIENDO DE LA PRIMERA LISTA E INCREMENTANDO LAS OTRAS TRES\n",
    "ESTA LISTA RESULTANTE DEBE TENER EL SIGUIENTE FORMATO dd/mm/yyyy   hh:mm\n",
    "Cada elemento de la lista 1 se incrementara con dia hora y mnuto que ocupa la misma posicion en los diferentes listas\n",
    "\n",
    "LISTA1 = ['03/06/2024', '15/07/2023', '22/08/2025']   #FECHAS\n",
    "LISTA2 = [10, 20, 16]   #  DIAS\n",
    "LISTA3 = [7, 12, 8]     # HOAS\n",
    "LISTA4 = [20, 12, 50]    #MINUTOS"
   ]
  },
  {
   "cell_type": "code",
   "execution_count": null,
   "id": "e93228e5",
   "metadata": {},
   "outputs": [],
   "source": [
    "from datetime import datetime, timedelta\n",
    "\n",
    "lista1 = ['03/06/2024', '15/07/2023', '22/08/2025']   #FECHAS\n",
    "lista2 = [10, 20, 16]   #  DIAS\n",
    "lista3 = [7, 12, 8]     # HOAS\n",
    "lista4 = [20, 12, 50]    #MINUTOS\n",
    "\n",
    "resultado = []\n",
    "indice = 0\n",
    "#Aqui hacemos el bucle\n",
    "for fecha in lista1:\n",
    "    fecha_separada = fecha.split('/')\n",
    "    #juntar la fecha por separado de la clase date\n",
    "    fecha_date = datetime(int(fecha_separada[2]), int(fecha_separada[1]), int(fecha_separada[0]))\n",
    "    fecha_formato = (fecha_date + timedelta (days=lista2[indice], hours=lista3[indice], minutes=lista4[indice]))\n",
    "    resultado.append (fecha_formato.strftime('%d/%m/Y %H:%M'))\n",
    "    indice=+1\n",
    "\n",
    "print (resultado)"
   ]
  },
  {
   "cell_type": "markdown",
   "id": "2ec1ebbe",
   "metadata": {},
   "source": [
    "LIBREIRAS EXTERNAS:   Son igual que las nativas pero no vienen con la instalaciónd ePython original. Se debe instalar primero mediante pip o conda, pip es exclusivo de python, conda puede instalar otros sistemas.\n",
    "pip se llama desde Terminal , PowerShell o simbolo del sistema\n",
    "\n",
    "pip list: Libreiras instaladas con su version\n",
    "como ver version de python que muestra las librerias:  Python --vesrsion\n",
    "Como instalar una libreria: pip install pandas\n",
    "Como instalar una libreria en una versión conreta de Python\n",
    "Para ver las librerias de una version   python -3.12.4 -m pip list\n",
    "\n",
    "lo contrario de pip  uninstall pandas : desinstalar\n"
   ]
  },
  {
   "cell_type": "code",
   "execution_count": null,
   "id": "ca6fd905",
   "metadata": {},
   "outputs": [],
   "source": [
    "import pandas as pd\n",
    "\n",
    "#pandas tiene 3 tipos de estructuras, la primera \n",
    "# Series = Estructuras de 1 dimension que tiene asociado un indice\n",
    "# Dataframe = estructuras de 2 dimensiones como una tabla de una BBDD\n",
    "# tenia paneles = estructuras de 3 dimensiones tipo cubo OLAP, Multiindex   (Ahora se ha sustituido)\n",
    "\n",
    "# Vamos a trabajar con una serie:\n",
    "# Serie ha de ser homogeneo, todos los elementos del mismo tipo\n",
    "semana = pd.Series(['Lunes', 'Martes', 'Miercoles', 'Jueves', 'Viernes'])\n",
    "semana\n",
    "\n"
   ]
  },
  {
   "cell_type": "code",
   "execution_count": null,
   "id": "cade7cfb",
   "metadata": {},
   "outputs": [],
   "source": [
    "#Cargar una serie a traves de una lista\n",
    "\n",
    "semana2 = ['Lunes', 'Martes', 'Miercoles', 'Jueves', 'Viernes']\n",
    "semana = pd.Series(data=semana2)\n",
    "semana"
   ]
  },
  {
   "cell_type": "code",
   "execution_count": null,
   "id": "51e45026",
   "metadata": {},
   "outputs": [],
   "source": [
    "numeros = [22,35,18]\n",
    "# Se pone una s delante para distinguir una Serie que es exclusivo de pandas \n",
    "# y lo distingur de una lista.... No es obligatorio\n",
    "snumeros = pd.Series(numeros)\n",
    "snumeros"
   ]
  },
  {
   "cell_type": "code",
   "execution_count": null,
   "id": "1719866d",
   "metadata": {},
   "outputs": [],
   "source": [
    "numeros = [22.85,35,18]\n",
    "# Se pone una s delante para distinguir una Serie que es exclusivo de pandas \n",
    "# una serie float (numeros decimales)\n",
    "snumeros = pd.Series(numeros)\n",
    "snumeros"
   ]
  },
  {
   "cell_type": "code",
   "execution_count": null,
   "id": "788522aa",
   "metadata": {},
   "outputs": [],
   "source": [
    "# una Serie boleana (true , false)\n",
    "\n",
    "valores = [True, False, True, False]\n",
    "svalores =pd.Series(valores)\n",
    "svalores"
   ]
  },
  {
   "cell_type": "code",
   "execution_count": null,
   "id": "09705f4e",
   "metadata": {},
   "outputs": [],
   "source": [
    "# Metodos de resumen de una serie\n",
    "print(\"la suma es\", snumeros.sum())\n",
    "print(\"el promedio  es\", snumeros.mean())\n",
    "#Con la funcion round puedo redondear el numero \n",
    "print(\"el promedio  es\", round(snumeros.mean(),2))\n",
    "\n",
    "\n",
    "#ver la suma acumulada\n",
    "print(\"el promedio  es\", snumeros.cumsum())"
   ]
  },
  {
   "cell_type": "markdown",
   "id": "9fcde0db",
   "metadata": {},
   "source": [
    "COMO TRANSFORMAR LOS ELEMENTOS DE UNA SERIE:\n",
    "Mediante una función\n",
    "\n",
    "snumeros = snumeros * 2\n"
   ]
  },
  {
   "cell_type": "code",
   "execution_count": null,
   "id": "23cb5fe6",
   "metadata": {},
   "outputs": [],
   "source": [
    "#Con el metodo apply de la clase Series, puedo modificar todos los elementos de una serie\n",
    "# metodo callback\n",
    "\n",
    "numeros = [22.85,35,18]\n",
    "def suma10(x):\n",
    "    return x+10\n",
    "\n",
    "print(\"La serie despues de sumar 10 sería\", snumeros.apply(suma10))"
   ]
  },
  {
   "cell_type": "markdown",
   "id": "c274daa1",
   "metadata": {},
   "source": [
    "#####   PRACTICA 24:\n",
    "PARTIENDO DE LA LISTA NUMEROS VIP = [18, 35, 78, 24, 63, 88, 125, 7, 53]\n",
    "CONVERTIRLO EN UNA SERIE Y MEDIANTE UNA FUNCION RESTAR 3 A LOS NUMEROS MAYORES DE 40 O SUMAR 5 A LAOS NUMEROS MENORES O IGUAL A 40\n",
    "DESPUES VER EN UN TEXTO , EL TOTAL DE LA SUMA ANTES Y DESPUES DE APLICAR LA FUNCION  , PARA QUE NOS MUESTRE TAMBIEN LA DIFERENCIA TOTAL"
   ]
  },
  {
   "cell_type": "code",
   "execution_count": null,
   "id": "5185f753",
   "metadata": {},
   "outputs": [],
   "source": [
    "import pandas as pd\n",
    "\n",
    "VIP = [18, 35, 78, 24, 63, 88, 125, 7, 53]\n",
    "svip = pd.Series(VIP)\n",
    "\n",
    "svip_antes = svip.sum()\n",
    "\n",
    "def cambiar(x):\n",
    "    if x > 40:\n",
    "        return x-3\n",
    "    else:\n",
    "        return x+5\n",
    "    \n",
    "svip2 = svip.apply(cambiar)\n",
    "total_modificado =svip2.sum()\n",
    "diferencia = total_modificado-svip_antes\n",
    "\n",
    "print( \"ELa diferencia es\", diferencia)\n",
    "\n"
   ]
  }
 ],
 "metadata": {
  "kernelspec": {
   "display_name": ".venv",
   "language": "python",
   "name": "python3"
  },
  "language_info": {
   "codemirror_mode": {
    "name": "ipython",
    "version": 3
   },
   "file_extension": ".py",
   "mimetype": "text/x-python",
   "name": "python",
   "nbconvert_exporter": "python",
   "pygments_lexer": "ipython3",
   "version": "3.12.4"
  }
 },
 "nbformat": 4,
 "nbformat_minor": 5
}
