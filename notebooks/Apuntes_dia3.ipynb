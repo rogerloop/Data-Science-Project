{
 "cells": [
  {
   "cell_type": "markdown",
   "id": "dac65785",
   "metadata": {},
   "source": [
    "               2025-05-12 - APUNTES CLASE DIA 3 - - - -"
   ]
  }
 ],
 "metadata": {
  "language_info": {
   "name": "python"
  }
 },
 "nbformat": 4,
 "nbformat_minor": 5
}
