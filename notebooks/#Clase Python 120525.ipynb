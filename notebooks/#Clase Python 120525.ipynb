{
 "cells": [
  {
   "cell_type": "markdown",
   "id": "3afb63ef",
   "metadata": {},
   "source": [
    "#### PRACTICA 19: \n",
    "CREAR UNA CLASE, CON ATRIBUTOS marca, modelo y año. QUE INCLUYA ADEMAS EL MÉTODO describir Y QUE DEVUELVA UNA DESCRIPCIÓN DE UN COCHE, COMPROBAR MEDIANTE 2 O 3 INSTANCIAS DIFERENTES\n",
    "\n",
    "#### PRACTICA 20: \n",
    "CREAR UNA CLASE rectangulo, CON ATRIBUTOS ancho y alto. QUE INCLUYA ADEMAS LOS MÉTODOS area y perimetro. PROBAR CON LA INSTANCIA RECT1 DE ANCHO 75 Y ALTO 125, PARA UTILIZAR SUS METODOS"
   ]
  },
  {
   "cell_type": "code",
   "execution_count": null,
   "id": "a2c4ecf3",
   "metadata": {},
   "outputs": [],
   "source": [
    "# PRACTICA 19: CREAR UNA CLASE, CON ATRIBUTOS marca, modelo y año. QUE INCLUYA ADEMAS EL \n",
    "# MÉTODO describir Y QUE DEVUELVA UNA DESCRIPCIÓN DE UN COCHE, COMPROBAR MEDIANTE 2 O 3 \n",
    "# INSTANCIAS DIFERENTES\n",
    "class coche:\n",
    "    def __init__(self, marca, modelo, año):\n",
    "        self.marca = marca\n",
    "        self.modelo = modelo\n",
    "        self.año = año\n",
    "\n",
    "    def describir(self):\n",
    "        return f\"mi marca de coche es {self.marca}, y mi modelo {self.modelo}, del año {self.año}\"\n",
    "        "
   ]
  },
  {
   "cell_type": "code",
   "execution_count": null,
   "id": "f4e7e669",
   "metadata": {},
   "outputs": [],
   "source": [
    "coche1 = coche(\"Renault\",\"Captur\",\"2023\")\n",
    "print(coche1.describir())"
   ]
  },
  {
   "cell_type": "code",
   "execution_count": null,
   "id": "876ea904",
   "metadata": {},
   "outputs": [],
   "source": [
    "# PRACTICA 20: CREAR UNA CLASE rectangulo, CON ATRIBUTOS ancho y alto. QUE INCLUYA ADEMAS LOS \n",
    "# MÉTODOS area y perimetro. PROBAR CON LA INSTANCIA RECT1 DE ANCHO 75 Y ALTO 125, \n",
    "# PARA UTILIZAR SUS METODOS\n",
    "class rectangulo:\n",
    "    def __init__(self, alto, ancho):\n",
    "        self.alto = alto\n",
    "        self.ancho = ancho\n",
    "    \n",
    "    def area(self):\n",
    "        return self.alto * self.ancho\n",
    "    \n",
    "    def perimetro(self):\n",
    "        return (self.alto + self.ancho) * 2\n",
    "#Pruena\n",
    "rect1 = rectangulo(5,10)\n",
    "print(\"rectangulo de\",rect1.alto,\"por\",rect1.ancho,\"tiene un area de\",rect1.area())\n",
    "print(\"rectangulo de\",rect1.alto,\"por\",rect1.ancho,\"tiene un perimetro de\", rect1.perimetro())"
   ]
  },
  {
   "cell_type": "markdown",
   "id": "ef62eae4",
   "metadata": {},
   "source": [
    "Las librerias nativas de Python, hay una gran variedad de librerias estandard o nativas.\n",
    "No se necesita hacer ninguna instalación aparte.\n",
    "Manipular datos; math, statistics, random, decimal\n",
    "Manipular cadenas; re, textwrap, string (str)\n",
    "Manipular archivos/directorios; io, shutil, pathlib\n",
    "Manipular fechas/horarios:\n",
    "time: Operaciones relacionadas con el tiempo (Bajo nivel)\n",
    "datetime: Operaciones relacionadas con el tiempo (Alto nivel)\n",
    "calendar: Trabajar con calendarios\n",
    "\n",
    "¿Como llamar a una libreria? seria con las palabras import y from\n",
    "import pandas = estoy importando toda la libreria, si quisiera trabajar con una clase\n",
    "la tendria que llamar mas tarde\n",
    "import pandas as pd\n",
    "ventas = pd.Dataframe (Llamo a la clase dataframe)\n",
    "\n",
    "from pandas import DataFrame as df, me traigo una clase concreta de una libreria\n",
    "from pandas import DataFrame as df, Series as s Aqui me estoy trayendo 2 clases, separadas por una coma\n"
   ]
  },
  {
   "cell_type": "code",
   "execution_count": null,
   "id": "625ce100",
   "metadata": {},
   "outputs": [],
   "source": [
    "#Con la libreria datetime, me permite trabajar con fechas y horas, pero la clase date solo permite\n",
    "#trabajar con fechas, si quiero ademas trabajar con horas usare la clase datetime\n",
    "from datetime import date\n",
    "from datetime import datetime\n",
    "#12/05/2025, el formato de date es 2025-05-12\n",
    "hoy = date.today()\n",
    "print(hoy)\n",
    "#Llamar a la clase date de la libreria datetime, y que tenga un alias\n",
    "from datetime import date as fecha   \n",
    "hoy2 = fecha.today()\n",
    "print(hoy2)\n",
    "#Vamos a llamar a sus atributos por separado\n",
    "print(\"El dia de hoy es\",hoy.day)\n",
    "print(\"El mes de hoy es\",hoy.month)\n",
    "print(\"El año de hoy es\",hoy.year)\n",
    "#Tambien lo puedo llamar directamente\n",
    "print(\"El dia de hoy es\",fecha.today().day)"
   ]
  },
  {
   "cell_type": "code",
   "execution_count": null,
   "id": "c98b4107",
   "metadata": {},
   "outputs": [],
   "source": [
    "from datetime import datetime       #Para trabajar con fechas/horas\n",
    "\n",
    "ahora = datetime.now()      #Fecha + hora actual\n",
    "print(ahora)\n",
    "#Vamos a llamar a los atributos por separado\n",
    "print(\"La hora actual es\",ahora.hour)\n",
    "print(\"Los minutos actuales son\",ahora.minute)\n",
    "print(\"Los segundos actuales son\",ahora.second)\n",
    "print(\"Los microsegundos actuales son\",ahora.microsecond)"
   ]
  },
  {
   "cell_type": "code",
   "execution_count": null,
   "id": "5186da79",
   "metadata": {},
   "outputs": [],
   "source": [
    "#Como asignar una fecha concreta, usaremos directamente la clase\n",
    "from datetime import date as fecha\n",
    "#Primero el año, despues el ems y finalmente el dia\n",
    "fecha1 = fecha(2025,11,22)\n",
    "print(fecha1)\n",
    "#Puedo comparar 2 objetos o instancias, si son de la misma clase, date con date\n",
    "#y datetime con datetime\n",
    "fecha2 = fecha(2025,12,16)\n",
    "if fecha2>fecha1:\n",
    "    print(\"La fecha\",fecha2,\"es mayor que\",fecha1)"
   ]
  },
  {
   "cell_type": "code",
   "execution_count": null,
   "id": "5d1491a0",
   "metadata": {},
   "outputs": [],
   "source": [
    "#Podemos restar 2 fechas, el resultado de restar 2 fechas son los dias transcurridos, siempre la\n",
    "#la fecha +nueva menos la mas antigua\n",
    "dias = fecha2 - fecha1\n",
    "#Atributo de resta entre 2 fechas\n",
    "print(\"El numero de dias es\",dias.days) "
   ]
  },
  {
   "cell_type": "markdown",
   "id": "b5ca4866",
   "metadata": {},
   "source": [
    "#### PRACTICA 21: \n",
    "VAMOS A RESTAR 2 FECHAS, LA PRIMERA 11/04/2025 Y LA SEGUNDA EL DIA ACTUAL, CON UNA ESTRUCTURA\n",
    "DE DECISION IF, DEVOLVER EL TEXTO \"DISTANCIA INFERIOR A 3 MESES\", SI EL NUMERO DE DIAS DE DIFERENCIA ES MENOR DE 180\n",
    "\n",
    "#### PRACTICA 22: \n",
    "CREAR UNA FUNCIÓN QUE MEDIANTE UN INPUT, SE ESCRIBA UNA FECHA SEPARADA POR @ EJEMPLO\n",
    "11@05@2025, NOS AJUSTE UN OBJETO CON ESA FECHA INDICADA.\n"
   ]
  },
  {
   "cell_type": "code",
   "execution_count": null,
   "id": "717583b9",
   "metadata": {},
   "outputs": [],
   "source": [
    "# PRACTICA 21: VAMOS A RESTAR 2 FECHAS, LA PRIMERA 11/04/2025 Y LA SEGUNDA EL DIA ACTUAL, \n",
    "# CON UNA ESTRUCTURA DE DECISION IF, DEVOLVER EL TEXTO \"DISTANCIA INFERIOR A 3 MESES\", \n",
    "# SI EL NUMERO DE DIAS DE DIFERENCIA ES MENOR DE 180\n",
    "from datetime import date\n",
    "fecha1 = date(2025,4,11)\n",
    "fecha2 = date.today()\n",
    "#Tener un objeto con la resta de las 2 fechas, primero la + nueva y despues la + antigua\n",
    "resultado = fecha2 - fecha1\n",
    "#Estructura if\n",
    "if resultado.days<90:\n",
    "    print(\"Distancia inferior a 3 meses\",resultado.days)\n"
   ]
  },
  {
   "cell_type": "code",
   "execution_count": null,
   "id": "3b75c2b9",
   "metadata": {},
   "outputs": [],
   "source": [
    "# PRACTICA 22: CREAR UNA FUNCIÓN QUE MEDIANTE UN INPUT, SE ESCRIBA UNA FECHA SEPARADA POR @ EJEMPLO, \n",
    "# 11@05@2025, NOS AJUSTE UN OBJETO CON ESA FECHA INDICADA.\n",
    "\n",
    "def pasamefecha(tiempo):\n",
    "    from datetime import date\n",
    "    #tiempo va separdo por la @, tiempo es un str, split, @\n",
    "    dato = tiempo.split('@')\n",
    "    #Construire la fecha, primero año, mes y dia\n",
    "    resultado = date(int(dato[2]),int(dato[1]),int(dato[0])) \n",
    "    print(resultado)\n",
    "#Seria la llamada a la función\n",
    "pasamefecha(input(\"coloca la fecha entre @, ejemplo dia@mes@año\"))"
   ]
  },
  {
   "cell_type": "code",
   "execution_count": null,
   "id": "2de188c0",
   "metadata": {},
   "outputs": [],
   "source": [
    "#Como dar formato a una fecha, usaremos el metodo strftime de la clase date, me devuelve\n",
    "#un texto\n",
    "print(hoy.day)\n",
    "print(\"El dia de hoy es\",hoy.strftime('%d'))        #En formato texto\n",
    "print(\"El dia de hoy es\",hoy.strftime('%A'))        #En letras\n",
    "print(\"El dia de la semana es\",hoy.strftime('%w'))  #El dia de la semana del 1 al 7\n",
    "print(\"El mes de hoy es\",hoy.strftime('%m'))        #En formato texto\n",
    "print(\"El mes de hoy es\",hoy.strftime('%B'))        #El mes en letras\n",
    "print(\"El mes de hoy es\",hoy.strftime('%b'))        #El mes en letras abreviado\n",
    "print(\"los 2 ultimos digitos del año de hoy es\",hoy.strftime('%y'))        #El mes en letras\n",
    "print(\"El año entero de hoy es\",hoy.strftime('%Y'))        #El mes en letras\n",
    "print(\"Semana del año de hoy es\",hoy.strftime('%W'))        #Semana del año\n",
    "#Puedo crear mi formato personalizado\n",
    "print(\"Formato personalizado\",hoy.strftime('%d/%m/%Y'))    #para formato dd/mm/yyyy\n",
    "print(\"Formato personalizado\",hoy.strftime('%A %B %Y'))    #para formato dd/mm/yyyy"
   ]
  },
  {
   "cell_type": "code",
   "execution_count": null,
   "id": "349d2c72",
   "metadata": {},
   "outputs": [],
   "source": [
    "#Formato de la hora\n",
    "from datetime import datetime\n",
    "ahora = datetime.now()\n",
    "#Quiero ver la hora\n",
    "print(\"la hora es\",ahora.strftime('%H'))\n",
    "#Quiero ver los minutos\n",
    "print(\"los minutos son\",ahora.strftime('%M'))\n",
    "#Quiero ver los segundos\n",
    "print(\"los segundos son\",ahora.strftime('%S'))\n",
    "#Formato personalizado\n",
    "print(\"los segundos son\",ahora.strftime('%H:%M:%S'))"
   ]
  },
  {
   "cell_type": "code",
   "execution_count": null,
   "id": "4ff01963",
   "metadata": {},
   "outputs": [],
   "source": [
    "#Una clase de datetime, que se llama timedelta, me permite incrementar o decrementar tiempo\n",
    "from datetime import datetime, timedelta\n",
    "hoy = datetime.today()\n",
    "#es incrementar 10 dias\n",
    "resultado = hoy + timedelta(days=10,hours=8,minutes=40,seconds=40)\n",
    "#incrementar con el + y decrementar con el -\n",
    "print(resultado)"
   ]
  },
  {
   "cell_type": "markdown",
   "id": "293f14c5",
   "metadata": {},
   "source": [
    "#### PRACTICA 23:\n",
    "TENDREMOS 4 LISTAS LA PRIMERA CONTENDRA FECHAS, LA SEGUNDA LOS DIAS A INCREMENTAR, LA TERCERA LAS HORAS A INCREMENTAR Y LA CUARTA LOS MINUTOS A INCREMENTAR, QUEREMOS TENER EN UNA LISTA EL RESULTADO\n",
    "FINAL, PARTIENDO DE LA PRIMERA LISTA E INCREMENTANDO LAS OTRAS 3, ESTA LISTA RESULTANTE DEBE TENER\n",
    "EL SIGUIENTE FORMATO DD/MM/YYYY HH:MM\n",
    "LISTA1 = ['03/06/2024','15/07/2023','22/08/2025']  #FECHAS\n",
    "LISTA2 = [10,20,16]                                #DIAS\n",
    "LISTA3 = [7,12,8]                                  #HORAS\n",
    "LISTA4 = [20,12,50]                                #MINUTOS"
   ]
  },
  {
   "cell_type": "code",
   "execution_count": null,
   "id": "fc56964a",
   "metadata": {},
   "outputs": [],
   "source": [
    "# PRACTICA 23:\n",
    "LISTA1 = ['03/06/2024','15/07/2023','22/08/2025']  #FECHAS\n",
    "LISTA2 = [10,20,16]                                #DIAS\n",
    "LISTA3 = [7,12,8]                                  #HORAS\n",
    "LISTA4 = [20,12,50]                                #MINUTOS\n",
    "#inicialmente esta vacia\n",
    "resultado = []\n",
    "from datetime import datetime, timedelta\n",
    "indice = 0\n",
    "#Hacemos el bucle\n",
    "for fecha in LISTA1:\n",
    "    fecha_separada = fecha.split('/')\n",
    "    #Juntar la fecha por separado con una instancia de la clase date\n",
    "    fecha_date = datetime(int(fecha_separada[2]),int(fecha_separada[1]),int(fecha_separada[0]))\n",
    "    fecha_formato = fecha_date + timedelta(days=LISTA2[indice],hours=LISTA3[indice],\n",
    "                                           minutes=LISTA4[indice])\n",
    "    resultado.append(fecha_formato.strftime('%d/%m/%Y %H:%M'))\n",
    "    indice+=1\n",
    "print(resultado) \n",
    "\n"
   ]
  },
  {
   "cell_type": "code",
   "execution_count": null,
   "id": "b4cf8078",
   "metadata": {},
   "outputs": [],
   "source": [
    "#Librerias externas, son igual que las nativas pero la diferencia es que no van con la,\n",
    "# instalación de python original. se debe instalar primero, mediante pip o conda\n",
    "# pip es exclusivo de python, en cambio conda es multi-lenguaje\n",
    "# Desde donde se llama al pip, CMD (Simbolo del sistema), Power Shell, terminal de VSC\n",
    "# con pip list ver las librerias con su numero de versión. como ver la versión de python\n",
    "# que me muestra las librerias python --version\n",
    "# como instalar una libreria pip install pandas\n",
    "# Ver las librerias de una versión concreta\n",
    "# py -3.13 -m pip list\n",
    "# Como instalar una libreria en una versión concreta de python\n",
    "# py -3.13 -m pip install pandas\n",
    "# lo contrario pip uninstall pandas   desisntalar"
   ]
  },
  {
   "cell_type": "code",
   "execution_count": null,
   "id": "b0e8d843",
   "metadata": {},
   "outputs": [],
   "source": [
    "import pandas as pd\n",
    "# pandas es una libreria que me permite trabajar con datos, es la mas utilizada, pero no la mejor\n",
    "# en estos momentos Power BI solo reconoce pandas\n",
    "# Pandas tiene 3 tipos de estructuras, la primera seria Series = Estructuras de 1 dimension que \n",
    "# tienen asociado un indice, DataFrame = estructuras de 2 dimensiones como una tabla de una BBDD\n",
    "# tenia Paneles = estructuras de 3 dimensiones tipo cubo OLAP, Multiindex\n",
    "# Series ha de ser homogeneo, todos los elementos del mismo tipo\n",
    "semana = pd.Series(['Lunes','Martes','Miercoles','Jueves','Viernes'])\n",
    "semana\n",
    "#Observar el indice"
   ]
  },
  {
   "cell_type": "code",
   "execution_count": null,
   "id": "51dde579",
   "metadata": {},
   "outputs": [],
   "source": [
    "#Cargar una serie a traves de una lista\n",
    "semana2 = ['Lunes','Martes','Miercoles','Jueves','Viernes']\n",
    "semana = pd.Series(data=semana2)\n",
    "semana"
   ]
  },
  {
   "cell_type": "code",
   "execution_count": null,
   "id": "6d0a2203",
   "metadata": {},
   "outputs": [],
   "source": [
    "numeros = [22,35,18]\n",
    "#Es voluntario para saber que es una serie\n",
    "#una serie integer (numero enteros)\n",
    "snumeros = pd.Series(numeros)\n",
    "snumeros"
   ]
  },
  {
   "cell_type": "code",
   "execution_count": null,
   "id": "263f59aa",
   "metadata": {},
   "outputs": [],
   "source": [
    "numeros = [22.85,35,18]\n",
    "#Es voluntario para saber que es una serie\n",
    "#una serie float (numeros decimales)\n",
    "snumeros = pd.Series(numeros)\n",
    "snumeros"
   ]
  },
  {
   "cell_type": "code",
   "execution_count": null,
   "id": "661821ad",
   "metadata": {},
   "outputs": [],
   "source": [
    "#Una serie booleana, True or False\n",
    "valores = [True, False, False, True]\n",
    "svalores = pd.Series(valores)\n",
    "svalores"
   ]
  },
  {
   "cell_type": "code",
   "execution_count": null,
   "id": "9377d689",
   "metadata": {},
   "outputs": [],
   "source": [
    "#Metodos de resumen de una serie\n",
    "print(\"la suma\", snumeros.sum())\n",
    "#Con la función round puedo redondear a el numero de decimales que quiero\n",
    "print(\"el promedio\", round(snumeros.mean(),2))\n",
    "print(\"el numero mas grande es\",snumeros.max())\n",
    "print(\"el numero mas pequeño es\",snumeros.min())\n",
    "print(\"la cantidad de elementos de la serie\",snumeros.count())\n",
    "#Ver la suma acumulada\n",
    "print(\"el numero mas grande es\",snumeros.cumsum())"
   ]
  },
  {
   "cell_type": "markdown",
   "id": "11455742",
   "metadata": {},
   "source": [
    "#Como transformar los elementos de una serie, mediante una función\n",
    "snumeros = snumeros * 2"
   ]
  },
  {
   "cell_type": "code",
   "execution_count": null,
   "id": "116e1559",
   "metadata": {},
   "outputs": [],
   "source": [
    "#Con el metodo apply de la clase Series, puedo modificar todos los elementos de una serie\n",
    "# metodo callback\n",
    "numeros = [22.85,35,18]\n",
    "def suma10(x):\n",
    "    return x+10\n",
    "\n",
    "print(\"La serie despues de sumar 10 serie\",snumeros.apply(suma10))\n"
   ]
  },
  {
   "cell_type": "markdown",
   "id": "7998c8f3",
   "metadata": {},
   "source": [
    "#### PRACTICA 24:\n",
    "PARTIENDO DE LA LISTA NUMEROS_VIP = [18,35,78,24,63,88,125,7,53]\n",
    "CONVERTIRLO A UNA SERIE Y MEDIANTE UNA FUNCIÓN RESTAR 3 A LOS NUMEROS MAYORES DE 40, O\n",
    "SUMAR 5 A LOS NUMEROS MENORES O IGUAL DE 40.\n",
    "VER EN UN TEXTO, EL TOTAL DE LA SUMA ANTES Y DESPUES DE APLICAR LA FUNCIÓN, PARA QUE\n",
    "NOS MUESTRE TAMBIEN LA DIFERENCIA TOTAL"
   ]
  },
  {
   "cell_type": "code",
   "execution_count": null,
   "id": "323d5709",
   "metadata": {},
   "outputs": [
    {
     "name": "stdout",
     "output_type": "stream",
     "text": [
      "La diferencia es 5\n"
     ]
    }
   ],
   "source": [
    "#PRACTICA 24\n",
    "import pandas as pd\n",
    "numeros_vip = [18,35,78,24,63,88,125,7,53]\n",
    "\n",
    "snumeros_vip = pd.Series(numeros_vip)\n",
    "total_original = snumeros_vip.sum()\n",
    "#Crearemos la función\n",
    "def modificar(x):\n",
    "    if x>40:\n",
    "        return x-3\n",
    "    else:\n",
    "        return x + 5\n",
    "#Mediante apply llamar a la función, almacenarlo en otra serie\n",
    "snumeros_vip2 = snumeros_vip.apply(modificar)\n",
    "total_modificado = snumeros_vip2.sum()\n",
    "diferencia = total_modificado-total_original\n",
    "#Lo muestro\n",
    "print(\"La diferencia es\",diferencia)\n",
    "\n"
   ]
  }
 ],
 "metadata": {
  "kernelspec": {
   "display_name": "Python 3",
   "language": "python",
   "name": "python3"
  },
  "language_info": {
   "codemirror_mode": {
    "name": "ipython",
    "version": 3
   },
   "file_extension": ".py",
   "mimetype": "text/x-python",
   "name": "python",
   "nbconvert_exporter": "python",
   "pygments_lexer": "ipython3",
   "version": "3.13.2"
  }
 },
 "nbformat": 4,
 "nbformat_minor": 5
}
