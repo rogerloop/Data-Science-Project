{
 "cells": [
  {
   "cell_type": "code",
   "execution_count": null,
   "id": "2e78c325",
   "metadata": {},
   "outputs": [],
   "source": [
    "#Como salir de un bucle  Con instricción break, sale del bucle\n",
    "\n",
    "# VEr ejemplo del profesor\n",
    "palabra = \"Domingo\"\n",
    "for letra in palabra:\n",
    "    if letra == \"n\":\n",
    "        break\n",
    "    print(letra)"
   ]
  },
  {
   "cell_type": "code",
   "execution_count": null,
   "id": "c7db6dd7",
   "metadata": {},
   "outputs": [],
   "source": [
    "# Como saltar interación en un bucle, imprimir todo menos la \"n\"\n",
    "\n",
    "\n",
    "palabra = \"Domingo\"\n",
    "for letra in palabra:\n",
    "    if letra == \"n\":\n",
    "        continue\n",
    "    print(letra)"
   ]
  },
  {
   "cell_type": "code",
   "execution_count": null,
   "id": "c30cea5e",
   "metadata": {},
   "outputs": [],
   "source": [
    "# Como saltar interación en un bucle, imprimir todo menos la \"n\"\n",
    "\n",
    "\n",
    "palabra = \"Domingo\"\n",
    "control = False\n",
    "for letra in palabra:\n",
    "    if letra == \"i\":\n",
    "        if control == True:\n",
    "            continue\n",
    "        control = True\n",
    "    print(letra)"
   ]
  },
  {
   "cell_type": "markdown",
   "id": "982c4f54",
   "metadata": {},
   "source": [
    "Metodos asociados a str\n",
    "upper, lower, split, join, len, contains\n",
    "\n",
    "todos los metodos que empiezan por is son Boleanos\n"
   ]
  },
  {
   "cell_type": "code",
   "execution_count": null,
   "id": "d6754f45",
   "metadata": {},
   "outputs": [],
   "source": [
    "palabra = \"Clasificación\"\n",
    "dir(palabra)\n",
    "print(palabra.upper())\n",
    "print(palabra.lower())\n",
    "print(palabra.replace('a', '@'))"
   ]
  },
  {
   "cell_type": "code",
   "execution_count": null,
   "id": "5c9a8439",
   "metadata": {},
   "outputs": [],
   "source": [
    "frase = \"El lunes os espero aquí a todos, se donde vivis\"\n",
    "frase = frase.replace(\",\", \"\")\n",
    "lista1 = frase.split()\n",
    "lista1\n",
    "# split por defecto es espacio en blanco, pero se puede indicar el caracter que lo separa\n",
    "\n",
    "frase2 = \"11/02/2025\"\n",
    "frase2 = frase2.split('/')\n",
    "frase2"
   ]
  },
  {
   "cell_type": "markdown",
   "id": "42181cd0",
   "metadata": {},
   "source": [
    "PRACTICA 11 BIS:\n",
    "Mediante un bucle for recorrer la palabra \"Supercalifragilisticoespialidoso\"\n",
    "1.- imprimir todas las letras por individual menos la \"a\"\n",
    "2.- Variante lo mismo pero imprimir solo hasta la segunda \"L\"\n",
    "3.- IMprimir todas las letras menos la a pero mostrarlas en mayusculas\n",
    "4.- separar la frase por palabras individuales omitiendo las comas\n",
    "frase = \"Hoy#estoy#triste#perdimos#la#champions\""
   ]
  },
  {
   "cell_type": "code",
   "execution_count": null,
   "id": "af8cdc8b",
   "metadata": {},
   "outputs": [],
   "source": [
    "# Ejercicio 1.- imprimir todas las letras por individual menos la \"a\"\n",
    "\n",
    "palabra = \"Supercalifragilisticoespialidoso\"\n",
    "for letra in palabra:\n",
    "    if letra == \"a\":\n",
    "        continue\n",
    "    print(letra)"
   ]
  },
  {
   "cell_type": "code",
   "execution_count": null,
   "id": "431bb9ba",
   "metadata": {},
   "outputs": [],
   "source": [
    "# 2.- Variante lo mismo pero imprimir solo hasta la segunda \"L\"\n",
    "palabra = \"Supercalifragilisticoespialidoso\"\n",
    "conta = 0\n",
    "for letra in palabra:\n",
    "    if letra == \"l\":\n",
    "        if conta>1:\n",
    "            break   \n",
    "        conta+=1 \n",
    "    print(letra)"
   ]
  },
  {
   "cell_type": "code",
   "execution_count": 30,
   "id": "6864674d",
   "metadata": {},
   "outputs": [
    {
     "name": "stdout",
     "output_type": "stream",
     "text": [
      "S\n",
      "U\n",
      "P\n",
      "E\n",
      "R\n",
      "C\n",
      "L\n",
      "I\n",
      "F\n",
      "R\n",
      "G\n",
      "I\n",
      "L\n",
      "I\n",
      "S\n",
      "T\n",
      "I\n",
      "C\n",
      "O\n",
      "E\n",
      "S\n",
      "P\n",
      "I\n",
      "L\n",
      "I\n",
      "D\n",
      "O\n",
      "S\n",
      "O\n"
     ]
    }
   ],
   "source": [
    "# 3.- IMprimir todas las letras menos la a pero mostrarlas en mayusculas\n",
    "palabra = \"Supercalifragilisticoespialidoso\"\n",
    "for letra in palabra:\n",
    "    if letra == \"a\":\n",
    "        continue\n",
    "    print(letra.upper())\n"
   ]
  },
  {
   "cell_type": "code",
   "execution_count": null,
   "id": "4588d8a6",
   "metadata": {},
   "outputs": [
    {
     "name": "stdout",
     "output_type": "stream",
     "text": [
      "['Hoy', 'estoy', 'triste', 'perdimos', 'la', 'champions']\n"
     ]
    }
   ],
   "source": [
    "# 4.- separar la frase por palabras individuales omitiendo las comas\n",
    "frase = \"Hoy#estoy#triste#perdimos#la#champions\"\n",
    "frase=frase.replace(\",\", \"\")\n",
    "resultado = frase.split(\"#\")\n",
    "#para ver la última, len me muestra el numero de caracteres de una variable\n",
    "#  o el numero de elementos de una lista\n",
    "print(len(frase))\n",
    "print(len(resultado))\n",
    "print(frase)"
   ]
  },
  {
   "cell_type": "code",
   "execution_count": 32,
   "id": "d97ca096",
   "metadata": {},
   "outputs": [
    {
     "data": {
      "text/plain": [
       "'Enero-febrero-Marzo'"
      ]
     },
     "execution_count": 32,
     "metadata": {},
     "output_type": "execute_result"
    }
   ],
   "source": [
    "# Metodo de la clase str, join\n",
    "lista3= ['Enero','febrero','Marzo']\n",
    "#Juntar estos 3 elementos con \"-\"\n",
    "resultado = \"-\".join(lista3)\n",
    "resultado\n",
    "\n"
   ]
  },
  {
   "cell_type": "markdown",
   "id": "df50efbd",
   "metadata": {},
   "source": [
    "PRACTICA 12bis:  Partiendo de tres variables dia, mes, año, con un valor de 07, 05, 2025, juntar los 3 valores para obtener la fecha en formato correcto    dd/mm/yy"
   ]
  },
  {
   "cell_type": "code",
   "execution_count": 37,
   "id": "5966b726",
   "metadata": {},
   "outputs": [
    {
     "data": {
      "text/plain": [
       "'07/05/2025'"
      ]
     },
     "execution_count": 37,
     "metadata": {},
     "output_type": "execute_result"
    }
   ],
   "source": [
    "dia = \"07\"\n",
    "mes = \"05\"\n",
    "año = \"2025\"\n",
    "lista4= [dia,mes,año]\n",
    "resultado = \"/\".join(lista4)\n",
    "resultado\n"
   ]
  },
  {
   "cell_type": "markdown",
   "id": "83dfa2df",
   "metadata": {},
   "source": [
    "PRACTICA 13 :    Mediante la siguiente lista   [28,15,32,7,44,28,63,74], imprimir los valores por individual hasta que la suma de los numeros impresos, sea mayor  de 180\n"
   ]
  },
  {
   "cell_type": "code",
   "execution_count": 42,
   "id": "fd3e2e89",
   "metadata": {},
   "outputs": [
    {
     "name": "stdout",
     "output_type": "stream",
     "text": [
      "el número de la lista es 28 y el acumulado es 28\n",
      "el número de la lista es 15 y el acumulado es 43\n",
      "el número de la lista es 32 y el acumulado es 75\n",
      "el número de la lista es 7 y el acumulado es 82\n",
      "el número de la lista es 44 y el acumulado es 126\n",
      "el número de la lista es 28 y el acumulado es 154\n"
     ]
    }
   ],
   "source": [
    "numeros1 = [28,15,32,7,44,28,63,74]\n",
    "total=0\n",
    "for numero in numeros1:\n",
    "    total+=numero\n",
    "    if total >180:\n",
    "        break\n",
    "    print(\"el número de la lista es\", numero, \"y el acumulado es\", total)\n"
   ]
  },
  {
   "cell_type": "code",
   "execution_count": null,
   "id": "f2131b72",
   "metadata": {},
   "outputs": [],
   "source": [
    "# Bucle while\n",
    "\n"
   ]
  },
  {
   "cell_type": "markdown",
   "id": "41eed89d",
   "metadata": {},
   "source": [
    "PRACTICA 14:    Mediante un bucle while imprimir el valor de una variable i, con un valor inicial de 20 siempre y cuando el valor de i sea menor de 50, la variable i se deberá incrementar de 2 en 2"
   ]
  },
  {
   "cell_type": "code",
   "execution_count": 46,
   "id": "bf84edac",
   "metadata": {},
   "outputs": [
    {
     "name": "stdout",
     "output_type": "stream",
     "text": [
      "El número es 20\n",
      "El número es 22\n",
      "El número es 24\n",
      "El número es 26\n",
      "El número es 28\n",
      "El número es 30\n",
      "El número es 32\n",
      "El número es 34\n",
      "El número es 36\n",
      "El número es 38\n",
      "El número es 40\n",
      "El número es 42\n",
      "El número es 44\n",
      "El número es 46\n",
      "El número es 48\n",
      "Termina el bucle\n"
     ]
    }
   ],
   "source": [
    "i=20\n",
    "while i<50:\n",
    "    print(\"El número es\", i)\n",
    "    i+=2\n",
    "print(\"Termina el bucle\")\n"
   ]
  },
  {
   "cell_type": "markdown",
   "id": "377f6340",
   "metadata": {},
   "source": [
    "LAS FUNCIONES PERSONALIZADAS EN PYTHON\n",
    "\n",
    "Una función es un código que devuelve un resultado, a excepción de las matriciasles que pueden devolver más de un resultado.\n",
    "En la mayoría de veces se le tiene que pasar unos valores, que son los argumentos o paramentros.\n",
    "Sintaxis en Python:   \n",
    "1 - palabra clave \"def\"\n",
    "2 - espacio en blanco \n",
    "3 - el nombre de la función (debe tener relacion con la funcion), no puede tener espacios en blanco ni empezar con un número\n",
    "4 - parentesis de apertura ( iran los paramentros, si hay mas de un paramentro se separan por comas, finalmente el parentesis de cierre )\n",
    "5 - finalmente los : porque forma parte de una estructura\n",
    "6 - todo el codigo de la funcion va identado 4 espacios\n",
    "\n",
    "def sum3(x):\n",
    "\n",
    "El resultado se duvuelve con print o con return\n",
    "print : devolverá un texto\n",
    "return:  #devolvera un valor"
   ]
  },
  {
   "cell_type": "code",
   "execution_count": 50,
   "id": "66ab9343",
   "metadata": {},
   "outputs": [
    {
     "name": "stdout",
     "output_type": "stream",
     "text": [
      "20\n"
     ]
    },
    {
     "data": {
      "text/plain": [
       "20"
      ]
     },
     "execution_count": 50,
     "metadata": {},
     "output_type": "execute_result"
    }
   ],
   "source": [
    "def sum3(x):\n",
    "    #print : devolverá un texto\n",
    "    print(x+3)\n",
    "    #devolvera un valor\n",
    "    return x+3\n",
    "\n",
    "# llamo a la funcion, una cosa es crear la funcion y otra es llamar a la funcion\n",
    "\n",
    "sum3(17)\n"
   ]
  },
  {
   "cell_type": "code",
   "execution_count": null,
   "id": "2409b55a",
   "metadata": {},
   "outputs": [
    {
     "ename": "SyntaxError",
     "evalue": "cannot delete function call (4231221167.py, line 4)",
     "output_type": "error",
     "traceback": [
      "  \u001b[36mCell\u001b[39m\u001b[36m \u001b[39m\u001b[32mIn[55]\u001b[39m\u001b[32m, line 4\u001b[39m\n\u001b[31m    \u001b[39m\u001b[31mdel sum3():\u001b[39m\n        ^\n\u001b[31mSyntaxError\u001b[39m\u001b[31m:\u001b[39m cannot delete function call\n"
     ]
    }
   ],
   "source": [
    "%whos\n",
    "#para eliminar una función lo hago como eliminar un objeto con del\n",
    "\n",
    "del sum3()\n"
   ]
  },
  {
   "cell_type": "markdown",
   "id": "08de5cb8",
   "metadata": {},
   "source": [
    "PRACTICA 15: Crear una funcion que nos devuelva un texto que ponga \"el resultado es: x\" y que tiene que restar 4 a un número y dividirlo por 2"
   ]
  },
  {
   "cell_type": "code",
   "execution_count": 58,
   "id": "517bc2f9",
   "metadata": {},
   "outputs": [
    {
     "name": "stdout",
     "output_type": "stream",
     "text": [
      "El resultado es 3.0\n"
     ]
    }
   ],
   "source": [
    "def calcular_resultado(numero):\n",
    "    resultado = (numero-4)/2\n",
    "    print(\"El resultado es\", resultado)\n",
    "\n",
    "numero = float(input(\"Dame un valor\"))\n",
    "calcular_resultado(numero)"
   ]
  },
  {
   "cell_type": "markdown",
   "id": "1862d4b0",
   "metadata": {},
   "source": [
    "PRACTICA 16: Crear una función que nos devuelva el area de un triangulo si le pasamos la base y la altura a calcular"
   ]
  },
  {
   "cell_type": "code",
   "execution_count": 60,
   "id": "8d7c7f21",
   "metadata": {},
   "outputs": [
    {
     "name": "stdout",
     "output_type": "stream",
     "text": [
      "El area del triangulo es:  500.0\n"
     ]
    }
   ],
   "source": [
    "def area_triangulo(base,altura):\n",
    "    area = (base*altura)/2\n",
    "    print(\"El area del triangulo es: \", area)\n",
    "\n",
    "base = float(input(\"dame la base del triangulo\"))\n",
    "altura = float(input(\"dame la altura del triangulo\"))\n",
    "area_triangulo(base, altura)"
   ]
  },
  {
   "cell_type": "markdown",
   "id": "72440abb",
   "metadata": {},
   "source": [
    "PRACTICA 17 : Crear una funcion que nos devuelva con un texto el nombre del mes correspondiente si se pone un numero en una caja de input del 1 al 12. Protejer si no está entre el 1 y 12"
   ]
  },
  {
   "cell_type": "code",
   "execution_count": null,
   "id": "de00c0b8",
   "metadata": {},
   "outputs": [],
   "source": [
    "def mes_letras(mes):\n",
    "    match mes:\n",
    "        case 1:\n",
    "            print(\"Enero\")\n",
    "        case 2:\n",
    "            print(\"Febrero\")\n",
    "\n",
    "\n",
    "\n",
    "        case _: # usar el default\n",
    "            print(\"Numero no valido\")\n",
    "\n",
    "\n",
    "# llamar a la funcion"
   ]
  },
  {
   "cell_type": "markdown",
   "id": "b0aa55a1",
   "metadata": {},
   "source": [
    "PRACTICA 18:  Crear una función que nos compare 2 numeros a y b y nos devuelva con un texto las 3 posibilidades \"el numero x es mayor que y\", \"el número x es menor que y\", \"el numero x e y son iguales\""
   ]
  },
  {
   "cell_type": "code",
   "execution_count": 61,
   "id": "9baed501",
   "metadata": {},
   "outputs": [
    {
     "name": "stdout",
     "output_type": "stream",
     "text": [
      "el numero a 37 es menor que b 50\n"
     ]
    }
   ],
   "source": [
    "def comparaab(a,b):\n",
    "    if a>b:\n",
    "        print(\"el numero a\", a, \"es mayor que b\", b)\n",
    "    elif a<b:\n",
    "        print(\"el numero a\", a, \"es menor que b\", b)\n",
    "    else:\n",
    "        print(\"el numero a\", a, \"es igual que b\", b)\n",
    "\n",
    "comparaab(37,50)\n"
   ]
  },
  {
   "cell_type": "markdown",
   "id": "4160afe7",
   "metadata": {},
   "source": [
    "Una clase , es como una plantilla que puedo usar para crear un objeto que hereda sus metodos y atributos\n",
    "Una clase tiene 3 elementos , metodos especiales, metodos o funciones, atributos (propiedades)\n"
   ]
  },
  {
   "cell_type": "code",
   "execution_count": 66,
   "id": "5b9eed99",
   "metadata": {},
   "outputs": [
    {
     "name": "stdout",
     "output_type": "stream",
     "text": [
      "Hola, soy Daniel y tengo 62 años\n",
      "Hola, soy Maria y tengo 70 años\n",
      "Maria eres el mejor, muchos animos\n"
     ]
    }
   ],
   "source": [
    "class persona:\n",
    "    #inicializar la clase con un metodo especial,\n",
    "    #  que son los que llevan los guines bajos empezamos con el init, \n",
    "    # despues self y los otros atributos\n",
    "    #__nombre__\n",
    "    \n",
    "    def __init__(self, nombre, edad, estatura):\n",
    "        self.nombre = nombre    #esto es un atributo\n",
    "        self.edad = edad    #esto es un atributo\n",
    "        self.estatura = estatura    #esto es un atributo\n",
    "\n",
    "    # un metodo es una funcion asociada a una clase \n",
    "    # que se llama mediante la notacion de un punto.\n",
    "\n",
    "    def saludar(self):      #metodo\n",
    "        #usaremos fstrings sirve para crear una cadena con paramentros\n",
    "        print(f\"Hola, soy {self.nombre} y tengo {self.edad} años\")\n",
    "\n",
    "    def animos(self):\n",
    "        print(f\"{self.nombre} eres el mejor, muchos animos\")\n",
    "\n",
    "persona1 = persona(\"Daniel\", 62, 1.69)\n",
    "persona2 = persona(\"Maria\", 70, 1.54)\n",
    "persona1.saludar()\n",
    "persona2.saludar()\n",
    "persona2.animos()\n",
    "\n"
   ]
  },
  {
   "cell_type": "markdown",
   "id": "e508726e",
   "metadata": {},
   "source": [
    "Tenemos librerias nativas y librerias externas\n",
    "Las nativas no necesitan instalacion, vienen con Python\n",
    "Las externas o librerias que necesitan instalación se instalarna con pip o con conda (anaconda)\n",
    "Pip se puede hacer desde powershell , msdos, termoinal VSC o Terminal de mac"
   ]
  }
 ],
 "metadata": {
  "kernelspec": {
   "display_name": ".venv",
   "language": "python",
   "name": "python3"
  },
  "language_info": {
   "codemirror_mode": {
    "name": "ipython",
    "version": 3
   },
   "file_extension": ".py",
   "mimetype": "text/x-python",
   "name": "python",
   "nbconvert_exporter": "python",
   "pygments_lexer": "ipython3",
   "version": "3.12.4"
  }
 },
 "nbformat": 4,
 "nbformat_minor": 5
}
