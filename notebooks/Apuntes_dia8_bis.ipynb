{
 "cells": [
  {
   "cell_type": "code",
   "execution_count": null,
   "id": "c3af2776",
   "metadata": {},
   "outputs": [],
   "source": [
    "# Analisis Predictivo con 2 Librerias especialiczadas en Machime Learning\n",
    "# scikit-learn y scipy\n",
    "\"\"\" El cálculo predictivo se basa en una regresion lineal, que es la relación entre 2 variables numéricas\n",
    "x = variable independiente y la variable y = dependiente. (La que tenemos que predecir)\n",
    "# En este caso, la variable x es el número de horas de estudio y la variable y es la calificación obtenida.\n",
    "r2 es el coeficiente de determinación, que indica la proporción de la varianza de la variable dependiente\n",
    "\n",
    "\n",
    "Muy importante Estudiar Analisis Predictivo!!!   \n",
    "y=x*a+b\n",
    "a== Pendiente de la recta\n",
    "b== Intersección con el eje y\n",
    "r2 = 1 - (SS_res / SS_tot)\n",
    "SS_res = sum((y_i - y_pred)^2)  # Residual sum of squares\n",
    "SS_tot = sum((y_i - y_mean)^2)  # Total sum of squares\n",
    "SS_res = sum((y_i - y_pred)**2)  # Residual sum of squares\n",
    "SS_tot = sum((y_i - y_mean)**2)  # Total sum of squares     \n",
    "\n",
    "\"\"\""
   ]
  },
  {
   "cell_type": "code",
   "execution_count": 17,
   "id": "b38ba3b4",
   "metadata": {},
   "outputs": [
    {
     "data": {
      "image/png": "[encoded data removed]",
      "text/plain": [
       "<Figure size 640x480 with 1 Axes>"
      ]
     },
     "metadata": {},
     "output_type": "display_data"
    },
    {
     "name": "stdout",
     "output_type": "stream",
     "text": [
      "La pendiente de este modelo es:  [0.01174636]\n",
      "La intersección de este modelo es:  7.653366298777826\n",
      "El coeficiente de calidad del modelo es  r2 es:  0.94547709084009\n",
      "La predicción de accidentes para una población de 100,000 habitantes es:  [1182.28975666]\n"
     ]
    }
   ],
   "source": [
    "import pandas as pd\n",
    "\n",
    "localidades = pd.read_csv('/Users/rogerdefez/Documents/VSCWorkspace/Data-Science-Project/Datos para ejercicios/Datos Accidentes localidad.csv')\n",
    "localidades\n",
    "\n",
    "import matplotlib.pyplot as plt\n",
    "\n",
    "y = localidades['Num. Accidentes']\n",
    "\n",
    "x = localidades['Habitantes']\n",
    "#Vamos a llamar al grafico de dispersion direcatamente scatter\n",
    "\n",
    "plt.scatter(x, y, color='blue')\n",
    "plt.title('Número de Accidentes por Habitantes')\n",
    "\n",
    "# Vamos a dibujar lla linea de tendencia, trabajaremos con la libreria numpy \n",
    "# que sirve para trabajar con matrices\n",
    "# Ya viene instalada con otras librerias como pandas y matplotlib\n",
    "# Vamos a trabajar con el metodo polyfit \n",
    "# (que ajusta los datos dentro de una funcion polinómica).  \n",
    "# Cuadrra por minimos o la teoria de los mínimos cuadrados\n",
    "# Tambien trabajaremos con el metodo poly1d para trabajar con unidimensional\n",
    "\n",
    "import numpy as np  \n",
    "\n",
    "z= np.polyfit(x, y, 1) # Ajusta los datos a una recta (grado 1)\n",
    "h = np.poly1d(z)(x)  # Crea una función polinómica de grado 1 a partir de los coeficientes z\n",
    "# Ahora vamos a dibujar la linea de tendencia\n",
    "plt.plot(x, h, \"r--\", lw=1)\n",
    "plt.show()\n",
    "\n",
    "# Tenemos que instalar la libreria de scikit-learn\n",
    "# haremos en terminal pip install scikit-learn\n",
    "from sklearn.linear_model import LinearRegression\n",
    "\n",
    "# Creamos una instacia vacia de LineraRegresion\n",
    "\n",
    "lineal = LinearRegression()\n",
    "#Vamos a cargar y entrenar el modelo predictivo con el metodo (fit)\n",
    "lineal.fit(x.values.reshape(-1, 1), y)  # reshape aplasta todas las capas y deja solo una\n",
    "# Vamos a averiguar la pendiente a = coeficiente de la recta\n",
    "a = lineal.coef_\n",
    "print(\"La pendiente de este modelo es: \", a)\n",
    "\n",
    "# Vamos a averiguar la intersección \"b\" (Es el punto donde corta en positivo el eje de la Y)\n",
    "b = lineal.intercept_\n",
    "print(\"La intersección de este modelo es: \", b)\n",
    "\n",
    "# Vamos a averiguar el coeficiente de determinación o calidad r2 \n",
    "# Da un resultado en %\n",
    "\n",
    "r2 = lineal.score(x.values.reshape(-1, 1), y)\n",
    "print(\"El coeficiente de calidad del modelo es  r2 es: \", r2)\n",
    "\n",
    "# Vamos a hacer una predicción Lo haremos con una matriz de numpy\n",
    "poblacion_ficticia = np.array([100000]) # Por ejemplo, 100,000 habitantes\n",
    "prediccion = lineal.predict(poblacion_ficticia.reshape(-1, 1))  # Reshape para que sea un vector columna\n",
    "print(\"La predicción de accidentes para una población de 100,000 habitantes es: \", prediccion)\n",
    "\n"
   ]
  },
  {
   "cell_type": "markdown",
   "id": "74e142e4",
   "metadata": {},
   "source": [
    "####  PRACTICA 40\n",
    "Par hacer en casa , mediante el fichero csv de motocicletas gasolina averiguar cuantas unidades vendidas habrá en el 2030\n"
   ]
  },
  {
   "cell_type": "markdown",
   "id": "a0ed7da4",
   "metadata": {},
   "source": [
    "Proxima clase veremos seaborn y streamlit"
   ]
  },
  {
   "cell_type": "code",
   "execution_count": null,
   "id": "7239ac62",
   "metadata": {},
   "outputs": [],
   "source": []
  },
  {
   "cell_type": "code",
   "execution_count": null,
   "id": "f0652bcd",
   "metadata": {},
   "outputs": [],
   "source": []
  }
 ],
 "metadata": {
  "kernelspec": {
   "display_name": ".venv",
   "language": "python",
   "name": "python3"
  },
  "language_info": {
   "codemirror_mode": {
    "name": "ipython",
    "version": 3
   },
   "file_extension": ".py",
   "mimetype": "text/x-python",
   "name": "python",
   "nbconvert_exporter": "python",
   "pygments_lexer": "ipython3",
   "version": "3.12.4"
  }
 },
 "nbformat": 4,
 "nbformat_minor": 5
}
