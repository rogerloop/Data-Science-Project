{
 "cells": [
  {
   "cell_type": "markdown",
   "id": "1062190f",
   "metadata": {},
   "source": [
    "Esto no es un bloque ejecutable, es un bloque de notas markdown"
   ]
  },
  {
   "cell_type": "markdown",
   "id": "5ff3e0af",
   "metadata": {},
   "source": [
    "Con la almohadilla hacemos una linea de comentario en un bloque de Python\n",
    "Con '''    y   '''  Es para comentario de parrafo\n",
    "Las variables en Python no se declaran, directamente se asignan   x=5,   o se reasignan\n",
    "Es un lenguaje fuertemente tipado, distingue mayus de minusculas\n",
    "La primera vez que usemos Python nos pedira que instalemos ipkernel\n",
    "\n"
   ]
  },
  {
   "cell_type": "code",
   "execution_count": null,
   "id": "9ec657ab",
   "metadata": {},
   "outputs": [],
   "source": [
    "# Esto comenta\n",
    "''' Esto comante un parrafo\n",
    "    de varias lineas'''\n",
    "\n",
    "x=5\n",
    "X=3\n",
    "\n",
    "\n"
   ]
  },
  {
   "cell_type": "code",
   "execution_count": null,
   "id": "a0504469",
   "metadata": {},
   "outputs": [],
   "source": [
    "# Para ver los objetos del kernel, solo funciona para jupyter\n",
    "%whos\n"
   ]
  },
  {
   "cell_type": "code",
   "execution_count": null,
   "id": "3fb57b0b",
   "metadata": {},
   "outputs": [],
   "source": [
    "# Como ver el Output, la primera poniendo el valor solamente el valor\n",
    "# Con la funcion print me mostrará todos las salidas de pantalla\n",
    "x=5\n",
    "X=3\n",
    "print(x+X)\n",
    "print()# Para ver el output de una sola linea\n",
    "\n",
    "print(5+6)\n",
    "\n"
   ]
  },
  {
   "cell_type": "code",
   "execution_count": null,
   "id": "35e81fd5",
   "metadata": {},
   "outputs": [],
   "source": [
    "# Input : Como introducir datos por parte del usuario\n",
    "\n",
    "valor= input(\"Introduce tu nombre: \")\n",
    "print(\"Tu nombre es\", valor)"
   ]
  },
  {
   "cell_type": "markdown",
   "id": "bb7c1c61",
   "metadata": {},
   "source": [
    "Cuando asigno un valor a una variable, se define el tipo de variable x=5, significa que x es una variable numérica, int = integer\n",
    "y=6.2345 significa que es una variable float = decimal\n",
    "dia= \"Lunes\" significa que es una string o cadena\n",
    "estado = True significa que es un boleano True o False\n",
    "\n",
    "dia = \"Lunes\", es crear una instancia de la clase string\n",
    "\n",
    "Una clase es una plantilla para crear objetoss, las clases tienen atributois , metodos y metodos especiales, por lo tanto hereda los metodos y atributos"
   ]
  },
  {
   "cell_type": "code",
   "execution_count": null,
   "id": "424b1ef1",
   "metadata": {},
   "outputs": [],
   "source": [
    "dia = \"lunes\"\n",
    "dia.upper() # Convierte a mayúsculas\n",
    "dia.lower() # Convierte a minúsculas\n",
    "\n",
    "# Como averiguar el tipo de dato que es\n",
    "dia.__class__() # Para ver el tipo de dato\n",
    "type(dia) # Para ver el tipo de dato\n",
    "\n",
    "# Como ver los metodos de un objeto\n",
    "dir(dia) # Para ver los metodos de un objeto o clase o instancia de una clase\n",
    "\n",
    "dia.islower() \n"
   ]
  },
  {
   "cell_type": "markdown",
   "id": "d58974b9",
   "metadata": {},
   "source": [
    "El resultado de input es un string aunque escribas un número"
   ]
  },
  {
   "cell_type": "code",
   "execution_count": null,
   "id": "dc25f21f",
   "metadata": {},
   "outputs": [],
   "source": [
    "valor= input(\"Introduce un número: \")\n",
    "# valor + 6 # No se puede sumar un string con un int da error\n",
    "int(valor) + 6 # Se convierte el string a int\n",
    "\n",
    "#Los decimales van con punto 1.78\n",
    "\n",
    "#cuando tienes 2 objetos separados por un =, el objeto de la izquierda, coge el valor del objeto de la derecha\n",
    "\n",
    "valor = int(valor) # Se convierte el string a int\n",
    "\n"
   ]
  },
  {
   "cell_type": "markdown",
   "id": "29877f4c",
   "metadata": {},
   "source": [
    "Las estructuras en Python: Estructuras de datos básicas. Listas, coleccion de elementos ordenados y mutables \n",
    "(se pueden modificar después de haber sido creados)\n",
    "tuplas, diccionarios, conjuntos"
   ]
  },
  {
   "cell_type": "code",
   "execution_count": null,
   "id": "375799c0",
   "metadata": {},
   "outputs": [
    {
     "data": {
      "text/plain": [
       "['Kiwi', 'Fresa', 'Naranja', 'pera', 'Melón', 'Sandia']"
      ]
     },
     "execution_count": 23,
     "metadata": {},
     "output_type": "execute_result"
    }
   ],
   "source": [
    "# vamos a crear una lista hetereogenea , contiene elementos de diferentes tipos\n",
    "# La lista va con corchetes\n",
    "# frutas es una instancia de la clase list, por tanto heredo sus métodos y atributos\n",
    "# Un método es una función asociada a una clase , que se llama mediante la anotación de un punto\n",
    "frutas = []     #así se crea una lista vacía\n",
    "frutas = [\"Kiwi\", \"Naranja\", \"Pera\", \"Melón\"]\n",
    "frutas\n",
    "# Como ver un elemento de la lista , llamando a su índice (empiezapor 0)\n",
    "frutas[2] # Para ver el elemento de la lista\n",
    "\n",
    "# Metodos interesantes de list:\n",
    "#  append: añade un elemento al final de la lista\n",
    "#insert: añade un elemento en una posición determinada\n",
    "# .remove: elimina un elemento de la lista que cumple la condición\n",
    "# clear: elimina todos los elementos de la lista\n",
    "# sort: ordena la lista\n",
    "# reverse: invierte el orden de la lista\n",
    "# index: devuelve el índice del primer elemento que cumple la condición\n",
    "# count: devuelve el número de veces que aparece un elemento en la lista\n",
    "\n",
    "# con del frutas [o] se elimina el elemento de la lista\n",
    "\n",
    "frutas.append(\"Sandia\")\n",
    "frutas\n",
    "\n",
    "frutas.insert(1, \"Fresa\") # Añade la fresa en la posición 1\n",
    "frutas\n",
    "\n"
   ]
  },
  {
   "cell_type": "code",
   "execution_count": 27,
   "id": "604b6236",
   "metadata": {},
   "outputs": [
    {
     "data": {
      "text/plain": [
       "['Kiwi',\n",
       " 'Fresa',\n",
       " 'Naranja',\n",
       " 'pera',\n",
       " 'Melón',\n",
       " 'Sandia',\n",
       " 'Papaya',\n",
       " 'Papaya',\n",
       " 'Papaya',\n",
       " 'Papaya']"
      ]
     },
     "execution_count": 27,
     "metadata": {},
     "output_type": "execute_result"
    }
   ],
   "source": [
    "frutas.append(\"Papaya\")\n",
    "frutas"
   ]
  },
  {
   "cell_type": "code",
   "execution_count": 28,
   "id": "1d72a7bd",
   "metadata": {},
   "outputs": [
    {
     "data": {
      "text/plain": [
       "4"
      ]
     },
     "execution_count": 28,
     "metadata": {},
     "output_type": "execute_result"
    }
   ],
   "source": [
    "frutas.count(\"Papaya\") # Devuelve el número de veces que aparece la papaya en la lista\n"
   ]
  },
  {
   "cell_type": "code",
   "execution_count": 29,
   "id": "e0d38b17",
   "metadata": {},
   "outputs": [
    {
     "name": "stdout",
     "output_type": "stream",
     "text": [
      "['Fresa', 'Kiwi', 'Melón', 'Naranja', 'Papaya', 'Papaya', 'Papaya', 'Papaya', 'Sandia', 'pera']\n"
     ]
    }
   ],
   "source": [
    "frutas.sort() # Ordena la lista\n",
    "print(frutas)\n",
    "\n"
   ]
  },
  {
   "cell_type": "markdown",
   "id": "bc39f3fc",
   "metadata": {},
   "source": [
    "Estructuras de control en Python\n",
    "\n",
    "if, analiza una condición o prueba lógica y si se cumple ejecuta una parte dverdadera. Es tipo bloque\n",
    "\n",
    "if prueba_logica:\n",
    "    Aqui la linea de codigo verdadero del if"
   ]
  },
  {
   "cell_type": "code",
   "execution_count": 4,
   "id": "6c1b37a6",
   "metadata": {},
   "outputs": [
    {
     "name": "stdout",
     "output_type": "stream",
     "text": [
      "Eres menor de edad\n"
     ]
    }
   ],
   "source": [
    "#> mayor que\n",
    "#< menor que\n",
    "#>= mayor o igual que\n",
    "#<= menor o igual que\n",
    "#== igual que\n",
    "#!= diferente de\n",
    "# Operadores de comparación\n",
    "\n",
    "\n",
    "\n",
    "edad = 15\n",
    "if edad <= 18:\n",
    "    print(\"Eres menor de edad\")\n",
    "elif edad < 65:\n",
    "    print(\"Eres mayor de edad\")\n",
    "else:\n",
    "    print(\"No activo\")\n",
    "    \n",
    "# El if se puede poner en una sola línea\n",
    "# if edad >= 18: print(\"Eres mayor de edad\") else: print(\"Eres menor de edad\")\n",
    "\n",
    "\n"
   ]
  }
 ],
 "metadata": {
  "kernelspec": {
   "display_name": ".venv",
   "language": "python",
   "name": "python3"
  },
  "language_info": {
   "codemirror_mode": {
    "name": "ipython",
    "version": 3
   },
   "file_extension": ".py",
   "mimetype": "text/x-python",
   "name": "python",
   "nbconvert_exporter": "python",
   "pygments_lexer": "ipython3",
   "version": "3.12.4"
  }
 },
 "nbformat": 4,
 "nbformat_minor": 5
}
