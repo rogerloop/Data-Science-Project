{
 "cells": [
  {
   "cell_type": "code",
   "execution_count": null,
   "id": "07afd9ed",
   "metadata": {},
   "outputs": [],
   "source": [
    "import pandas as pd\n",
    "\n",
    "numeros = pd.Series([18,12,38,4,76,52,25,44])\n",
    "print(numeros)\n",
    "#Como ordenar una serie numerica\n",
    "print(numeros.sort_values(ascending=True))\n",
    "#Si quiero modificar el indice\n",
    "print(numeros.sort_values(ascending=True,ignore_index=True))"
   ]
  },
  {
   "cell_type": "code",
   "execution_count": null,
   "id": "1595b07a",
   "metadata": {},
   "outputs": [],
   "source": [
    "#Como filtrar valores\n",
    "numeros[numeros>30].sort_values(ascending=True)"
   ]
  },
  {
   "cell_type": "code",
   "execution_count": null,
   "id": "2970936f",
   "metadata": {},
   "outputs": [],
   "source": [
    "#2 funciones de estadisticas interesantes, la varianza (var), la desviacion\n",
    "#tipica (std)\n",
    "print(\"La varianza es\",round(numeros.var(),2))\n",
    "print(\"La desviación tipica es\",round(numeros.std(),2))"
   ]
  },
  {
   "cell_type": "markdown",
   "id": "d42e5449",
   "metadata": {},
   "source": [
    "PRACTICA 25: Crearemos una serie numerica de pandas con los siguientes\n",
    "numeros [34,124,81,9,81,34,124,75,18,124,81,67,22,16], esta serie se\n",
    "llamara \"Numeros VIP\", clonaremos esta serie para tener solamente los \n",
    "numeros que sean mayores de 50, en orden descendente y reindexando, esta\n",
    "nueva serie sera \"Numeros VIP 50\", a esta nueva serie le aplicaremos una\n",
    "función por la cual si el valor es menor de 80 le reste 2 y si es mayor\n",
    "le sume 2. Ver en un texto el promedio de la serie \"Numeros VIP 50\", ver\n",
    "en un texto la varianza \"Numeros VIP 50\" y ver en un texto el numero de \n",
    "elementos \"Numeros VIP 50\"."
   ]
  },
  {
   "cell_type": "code",
   "execution_count": null,
   "id": "91ba4df9",
   "metadata": {},
   "outputs": [],
   "source": [
    "#Practica 25\n",
    "import pandas as pd\n",
    "Numeros_VIP = pd.Series([34,124,81,9,81,34,124,75,18,124,81,67,22,16])\n",
    "print(Numeros_VIP) \n",
    "Numeros_VIP_50 = Numeros_VIP[Numeros_VIP>50].sort_values(ascending=False,\n",
    "                                                         ignore_index=True)\n",
    "print(Numeros_VIP_50)\n",
    "#Una función que me devuelve el numero de veces que esta repetido un valor\n",
    "Numeros_VIP_50.value_counts()\n",
    "#Función para aplicar\n",
    "def modificar_valor(x):\n",
    "    if x<80:\n",
    "        return x-2\n",
    "    else:\n",
    "        return x+2\n",
    "#Llamamos a la función\n",
    "Numeros_VIP_50 = Numeros_VIP_50.apply(modificar_valor)\n",
    "print(Numeros_VIP_50)\n",
    "#Ver los textos\n",
    "print(\"El promedio de numeros vip 50 es\",round(Numeros_VIP_50.mean(),2))\n",
    "print(\"ELa varianza de numeros vip 50 es\",round(Numeros_VIP_50.var(),2))\n",
    "print(\"El promedio de numeros vip 50 es\",round(Numeros_VIP_50.count(),2))"
   ]
  },
  {
   "cell_type": "code",
   "execution_count": null,
   "id": "d5158571",
   "metadata": {},
   "outputs": [],
   "source": [
    "#DataFrames estructuras de 2 dimensiones\n",
    "import pandas as pd\n",
    "\n",
    "pedidos = pd.DataFrame([\n",
    "    {\"Cliente\":\"Comercial Suministros\",\"Precio\":2.75,\"Cantidad\":29},\n",
    "    {\"Cliente\":\"Almacenes Gomez\",\"Precio\":5.80,\"Cantidad\":52},\n",
    "    {\"Cliente\":\"Distribuciones Marquez\",\"Precio\":11.17,\"Cantidad\":290},\n",
    "    {\"Cliente\":\"Productos Industriales\",\"Precio\":4.60,\"Cantidad\":42},\n",
    "    {\"Cliente\":\"Tornilleria Gomez\",\"Precio\":8.72,\"Cantidad\":32}\n",
    "])\n",
    "pedidos"
   ]
  },
  {
   "cell_type": "code",
   "execution_count": null,
   "id": "197ae2e3",
   "metadata": {},
   "outputs": [],
   "source": [
    "#Ver los primeros n registros con head()\n",
    "pedidos.head(2)\n",
    "#Ver los ultimos n registros con tail()\n",
    "pedidos.tail(2)\n",
    "#Ver solamente una serie\n",
    "pedidos['Cliente']\n",
    "#Como ver +1 campo\n",
    "pedidos[['Precio','Cliente']]"
   ]
  },
  {
   "cell_type": "code",
   "execution_count": null,
   "id": "524ab54f",
   "metadata": {},
   "outputs": [],
   "source": [
    "#Como añadir una columna/campo a un DataFrame\n",
    "#1 - Poniendo un valor fijo\n",
    "#2 - Con la función apply\n",
    "#3 - Partiendo de 1 o +1 columna\n",
    "#4 - Mediante loc o iloc\n",
    "pedidos['Comercial'] = \"Manolo Garcia\"\n",
    "pedidos"
   ]
  },
  {
   "cell_type": "code",
   "execution_count": null,
   "id": "eeb03f24",
   "metadata": {},
   "outputs": [],
   "source": [
    "pedidos['Cantidad2'] = pedidos['Cantidad'] * 2\n",
    "pedidos"
   ]
  },
  {
   "cell_type": "code",
   "execution_count": null,
   "id": "3ad0c6fc",
   "metadata": {},
   "outputs": [],
   "source": [
    "#Con apply\n",
    "def columna_nueva(x):\n",
    "    if x>35:\n",
    "        return x+10\n",
    "    else:\n",
    "        return x-10\n",
    "#aplicaremos la función\n",
    "pedidos['Cantidad3'] = pedidos['Cantidad'].apply(columna_nueva)\n",
    "pedidos"
   ]
  },
  {
   "cell_type": "markdown",
   "id": "2d70e5c6",
   "metadata": {},
   "source": [
    "PRACTICA 26: Sobre el Dataframe pedidos, crear un campo nuevo (dif_cantidad), que me da la diferencia entre la cantidad mas grande de toda la serie y la cantidad de cada fila\n",
    "\n",
    "PRACTICA 27: Crear una columna (Precio 2) que incremente el valor de Precio\n",
    "en un 10% si el precio es mayor 5.5"
   ]
  },
  {
   "cell_type": "code",
   "execution_count": null,
   "id": "dd4f9f6b",
   "metadata": {},
   "outputs": [],
   "source": [
    "#Practica 26\n",
    "cantidad_max = pedidos['Cantidad'].max()\n",
    "pedidos['dif_cantidad'] = cantidad_max-pedidos['Cantidad']\n",
    "pedidos"
   ]
  },
  {
   "cell_type": "code",
   "execution_count": null,
   "id": "00d88fe9",
   "metadata": {},
   "outputs": [],
   "source": [
    "#Practica 27\n",
    "def precio2(x):\n",
    "    if x>5.5:\n",
    "        return x * 1.1\n",
    "        #return x + (x*0.1)\n",
    "    else:\n",
    "        return x\n",
    "#le aplico la función\n",
    "pedidos['precio2'] = pedidos['Precio'].apply(precio2)\n",
    "pedidos"
   ]
  },
  {
   "cell_type": "code",
   "execution_count": null,
   "id": "187e756b",
   "metadata": {},
   "outputs": [],
   "source": [
    "import pandas as pd\n",
    "#Para cargar un DataFrame, de un fichero plano csv, no necesito instalar\n",
    "#ninguna libreria adicional, read_csv(la ruta del fichero)\n",
    "january2019 = pd.read_csv(r\"C:\\Users\\formacio\\Downloads\\January 2019.csv\")\n",
    "january2019\n",
    "February2019 = pd.read_csv(r\"C:\\Users\\formacio\\Downloads\\February 2019.csv\")\n",
    "February2019\n",
    "\n",
    "#1 el slash al reves /\n",
    "#2 poner 2 slash seguidos \\\\\n",
    "#3 poner una r delante (raw)"
   ]
  },
  {
   "cell_type": "code",
   "execution_count": null,
   "id": "8fb6d9e0",
   "metadata": {},
   "outputs": [],
   "source": [
    "#Como ver información sobre el DataFrame\n",
    "january2019.info()"
   ]
  },
  {
   "cell_type": "code",
   "execution_count": null,
   "id": "99959fe0",
   "metadata": {},
   "outputs": [],
   "source": [
    "#Los 5 primeros nombres de cliente ordenados A-Z\n",
    "january2019['Customer'].head(5).sort_values(ascending=True)"
   ]
  },
  {
   "cell_type": "code",
   "execution_count": null,
   "id": "e9f5b8e1",
   "metadata": {},
   "outputs": [],
   "source": [
    "#Como crear una columna y como eliminarla\n",
    "january2019['AEliminar'] = \"A eliminar\"\n",
    "january2019\n",
    "#Como eliminamos, con drop eliminamos, con drop + axis = 1 columnas\n",
    "#con drop + axis = 0 para filas\n",
    "#january2019 = january2019.drop(['AEliminar'],axis=1)\n",
    "#Alternativa el inplace\n",
    "january2019.drop(['AEliminar'],axis=1,inplace=True)\n",
    "january2019\n",
    "#En todos los sistemas, la importación es de lectura\n",
    "#january2019.drop([2],axis=0,inplace=True)\n",
    "january2019 = january2019.sort_values(ascending=True, by='Customer', ignore_index=True)\n",
    "january2019"
   ]
  },
  {
   "cell_type": "code",
   "execution_count": null,
   "id": "66bdff31",
   "metadata": {},
   "outputs": [],
   "source": [
    "#Ver los primeros 3 registros cuyas Units sean mayor de 100\n",
    "january2019[january2019['Units']>100].sort_values(ascending=True, \n",
    "                                                  by=\"IdOrder\").head(3)"
   ]
  },
  {
   "cell_type": "code",
   "execution_count": null,
   "id": "4f5d8a5d",
   "metadata": {},
   "outputs": [],
   "source": [
    "#Ver los registros cuyo nombre de Customer contenga la palabra Industries\n",
    "#el accesor, el accesor str\n",
    "filtro = january2019['Customer'].str.contains('Industries')\n",
    "#filtro2 = ['Customer'].str.contains('Industries')\n",
    "#filtro\n",
    "january2019[filtro].tail(10)"
   ]
  },
  {
   "cell_type": "code",
   "execution_count": null,
   "id": "dee1a446",
   "metadata": {},
   "outputs": [],
   "source": [
    "#El wildcard en contains\n",
    "filtro = january2019['Country'].str.contains('C.*')\n",
    "january2019[filtro]"
   ]
  },
  {
   "cell_type": "code",
   "execution_count": null,
   "id": "846107bd",
   "metadata": {},
   "outputs": [],
   "source": [
    "#Que contenga Industries o industries\n",
    "filtro = january2019['Customer'].str.contains('[Ii]ndustries')\n",
    "#filtro2 = ['Customer'].str.contains('Industries')\n",
    "#filtro\n",
    "january2019[filtro].tail(10)"
   ]
  },
  {
   "cell_type": "code",
   "execution_count": null,
   "id": "b372e54f",
   "metadata": {},
   "outputs": [],
   "source": [
    "#Como anexar 2 dataframes, con concat, prerequisito, para anexar 2 DataFrame\n",
    "#deben tener la misma estructura, mismo numero de columnas y con los mismos \n",
    "#nombres\n",
    "dosmeses = pd.concat([january2019,February2019],ignore_index=True)\n",
    "dosmeses"
   ]
  },
  {
   "cell_type": "markdown",
   "id": "a20d2cae",
   "metadata": {},
   "source": [
    "PRACTICA 28: Queremos tener un Dataframe clonado de january2019 que contenga\n",
    "solamente los customers cuyo nombre contenga la palabra \"Systems\" y A-Z\n",
    "\n",
    "PRACTICA 29: dosmeses, Queremos ver en un texto el numero de customers cuyo nombre termina por n\n",
    "\n",
    "PRACTICA 30: dosmeses, Queremos ver los 10 primeros customers cuyo Country sea Canada\n",
    "\n",
    "PRACTICA 31: Queremos tener en un DataFrame los meses de January a March y ver la suma total\n",
    "de revenue, despues de aplicar un descuento del 5,63% si el Country es Colombia, si no no hay\n",
    "descuento"
   ]
  },
  {
   "cell_type": "code",
   "execution_count": null,
   "id": "3b1f1df2",
   "metadata": {},
   "outputs": [],
   "source": [
    "#PRACTICA 28:\n",
    "january2019_Systems = january2019[january2019['Customer'].str.contains('Systems')].sort_values(ascending=True, \n",
    "                                                                                               by=\"Customer\")\n",
    "january2019_Systems"
   ]
  },
  {
   "cell_type": "code",
   "execution_count": null,
   "id": "ed71d18d",
   "metadata": {},
   "outputs": [],
   "source": [
    "#PRACTICA 29:\n",
    "print(\"El numero de registros que termina por n es\",\n",
    "      dosmeses[dosmeses['Customer'].str.endswith('n')].IdOrder.count())"
   ]
  },
  {
   "cell_type": "code",
   "execution_count": null,
   "id": "f5a45fd9",
   "metadata": {},
   "outputs": [],
   "source": [
    "#PRACTICA 30: dosmeses, Queremos ver los 10 primeros customers cuyo Country sea Canada\n",
    "dosmeses[dosmeses['Country']==\"Canada\"].head(10)"
   ]
  },
  {
   "cell_type": "code",
   "execution_count": null,
   "id": "78f61d68",
   "metadata": {},
   "outputs": [],
   "source": [
    "#PRACTICA 31: Queremos tener en un DataFrame los meses de January a March y ver la suma total \n",
    "# de revenue, despues de aplicar un descuento del 5,63% si el Country es Colombia, si no no hay \n",
    "# descuento\n",
    "january2019 = pd.read_csv(r\"C:\\Users\\formacio\\Downloads\\January 2019.csv\")\n",
    "february2019 = pd.read_csv(r\"C:\\Users\\formacio\\Downloads\\February 2019.csv\")\n",
    "march2019 = pd.read_csv(r\"C:\\Users\\formacio\\Downloads\\March 2019.csv\")\n",
    "#Anexar los 3 dataframes\n",
    "trimestre = pd.concat([january2019,february2019,march2019],ignore_index=True)\n",
    "#Separando registros\n",
    "#Voy a tener un objeto con los registros de Colombia\n",
    "#Voy a tener un objeto con los registros que no sean de Colombia\n",
    "trimestreC = trimestre[trimestre['Country']==\"Colombia\"]\n",
    "trimestreNC = trimestre[trimestre['Country']!=\"Colombia\"]\n",
    "#Aplico el Dto % en colombia\n",
    "trimestreC['Revenue'] = trimestreC['Revenue']*(1-0.0563)\n",
    "trimestrefinal = pd.concat([trimestreC,trimestreNC],ignore_index=True)\n",
    "#Haciendolo con apply\n",
    "def descuento(Country):\n",
    "    if Country==\"Colombia\":\n",
    "        return 0.0563\n",
    "    else:\n",
    "        return 0\n",
    "#partiria del trimestre\n",
    "trimestre['Revenue'] = (1-trimestre['Country'].apply(descuento))*trimestre['Revenue'] "
   ]
  },
  {
   "cell_type": "code",
   "execution_count": null,
   "id": "7b1b4d6c",
   "metadata": {},
   "outputs": [],
   "source": [
    "#Como cargar un fichero de Excel, necesitaremos la libreria openpyxl\n",
    "import pandas as pd\n",
    "fichero = r\"C:\\Users\\formacio\\Downloads\\VentasGroucery_Meses.xlsx\"\n",
    "hojaAgosto = \"Ventas Agosto 2014\"\n",
    "Agosto2014 = pd.read_excel(fichero,sheet_name=hojaAgosto)\n",
    "Agosto2014\n",
    "#Ventas Agosto 2014\n",
    "#\"C:\\Users\\formacio\\Downloads\\VentasGroucery_Meses.xlsx\"\n"
   ]
  }
 ],
 "metadata": {
  "kernelspec": {
   "display_name": "Python 3",
   "language": "python",
   "name": "python3"
  },
  "language_info": {
   "codemirror_mode": {
    "name": "ipython",
    "version": 3
   },
   "file_extension": ".py",
   "mimetype": "text/x-python",
   "name": "python",
   "nbconvert_exporter": "python",
   "pygments_lexer": "ipython3",
   "version": "3.13.2"
  }
 },
 "nbformat": 4,
 "nbformat_minor": 5
}
