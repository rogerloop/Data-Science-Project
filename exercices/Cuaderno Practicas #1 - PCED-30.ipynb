{
 "cells": [
  {
   "cell_type": "markdown",
   "id": "651f4cd4",
   "metadata": {},
   "source": [
    "## ✍️ Práctica 1: \n",
    "Crear una lista que se llame meses, que contenga los meses de enero a junio excepto abril. Añadiremos al final de la lista los meses de julio y agosto. Insertaremos en su lugar el mes de abril y añadiremos al final los meses de marzo y julio. Finalmente, eliminaremos los meses incorrectos, para que nos quede la lista en orden cronológico."
   ]
  },
  {
   "cell_type": "code",
   "execution_count": 1,
   "id": "969c651b",
   "metadata": {},
   "outputs": [
    {
     "name": "stdout",
     "output_type": "stream",
     "text": [
      "['enero', 'febrero', 'marzo', 'mayo', 'junio']\n",
      "['enero', 'febrero', 'marzo', 'mayo', 'junio', 'julio']\n",
      "['enero', 'febrero', 'marzo', 'mayo', 'junio', 'julio', 'agosto']\n",
      "['enero', 'febrero', 'marzo', 'mayo', 'junio', 'julio', 'agosto', 'septiembre', 'octubre']\n",
      "['enero', 'febrero', 'marzo', 'abril', 'mayo', 'junio', 'julio', 'agosto', 'septiembre', 'octubre']\n",
      "['enero', 'febrero', 'marzo', 'abril', 'mayo', 'junio', 'julio', 'agosto', 'septiembre', 'octubre', 'marzo', 'julio']\n",
      "['enero', 'febrero', 'marzo', 'abril', 'mayo', 'junio', 'julio', 'agosto', 'septiembre', 'octubre']\n"
     ]
    }
   ],
   "source": [
    "#Codigo de la Practica 1\n",
    "#Codigo de la Practica 1\n",
    "meses = [\"enero\", \"febrero\", \"marzo\", \"mayo\", \"junio\",]\n",
    "print(meses)\n",
    "meses.append(\"julio\")\n",
    "print(meses)\n",
    "meses.append(\"agosto\")\n",
    "print(meses)\n",
    "# Alternativa para agregar varios elementos a la vez\n",
    "meses.extend([\"septiembre\", \"octubre\"])\n",
    "print(meses)\n",
    "meses.insert(3, \"abril\")\n",
    "print(meses)\n",
    "meses.extend([\"marzo\", \"julio\"])\n",
    "print(meses)\n",
    "#Si elimino con remove, eliminare el Marzo o Julio que no toca, con el slicing\n",
    "#[10], [10:15] del 10 al 15, [10:] del indice 10 hasta el final\n",
    "del meses[10:]\n",
    "print(meses)\n",
    "\n"
   ]
  },
  {
   "cell_type": "markdown",
   "id": "c9b7f28d",
   "metadata": {},
   "source": [
    "## ✍️ Práctica 2: \n",
    "Mediante una estructura if...else, mostrar un mensaje que diga \"el número x es mayor que 20\" o \"el número x no es mayor que 20\", según si el valor de la variable, ajustado mediante un input, cumple la condición o no."
   ]
  },
  {
   "cell_type": "code",
   "execution_count": 29,
   "id": "c121804f",
   "metadata": {},
   "outputs": [
    {
     "name": "stdout",
     "output_type": "stream",
     "text": [
      "El número 4 es menor que 20\n"
     ]
    }
   ],
   "source": [
    "#Codigo de la Practica 2\n",
    "X = input(\"Introduce un número entero: \")\n",
    "X = int(X)\n",
    "# Comprobamos si el número es mayor, menor o igual a 2\n",
    "if X > 20:\n",
    "    print(\"El número\", X, \"es mayor que 20\")\n",
    "elif X < 20:\n",
    "    print(\"El número\", X, \"es menor que 20\")\n",
    "else:\n",
    "    print(\"El número\", X, \"es igual a 20\")\n"
   ]
  },
  {
   "cell_type": "markdown",
   "id": "90a8bd59",
   "metadata": {},
   "source": [
    "## ✍️ Práctica 3: \n",
    "Lo mismo, pero para números decimales."
   ]
  },
  {
   "cell_type": "code",
   "execution_count": 30,
   "id": "9e1da051",
   "metadata": {},
   "outputs": [
    {
     "name": "stdout",
     "output_type": "stream",
     "text": [
      "El número 2.5 es menor que 20\n"
     ]
    }
   ],
   "source": [
    "#Codigo de la Practica 3\n",
    "X = input(\"Introduce un número decimal: \")\n",
    "X = float(X)\n",
    "# Comprobamos si el número es mayor, menor o igual a 2\n",
    "if X > 20:\n",
    "    print(\"El número\", X, \"es mayor que 20\")\n",
    "elif X < 20:\n",
    "    print(\"El número\", X, \"es menor que 20\")\n",
    "else:\n",
    "    print(\"El número\", X, \"es igual a 20\")"
   ]
  },
  {
   "cell_type": "markdown",
   "id": "6076048f",
   "metadata": {},
   "source": [
    "## ✍️ Práctica 4: \n",
    "Mediante un bucle for, recorrer la lista semana (de lunes a viernes) y mostrar en un texto: \"el día de la semana es xxx\" en cada iteración."
   ]
  },
  {
   "cell_type": "code",
   "execution_count": 31,
   "id": "9f50ebe0",
   "metadata": {},
   "outputs": [
    {
     "name": "stdout",
     "output_type": "stream",
     "text": [
      "El dia de la semana es: lunes\n",
      "El dia de la semana es: martes\n",
      "El dia de la semana es: miercoles\n",
      "El dia de la semana es: jueves\n",
      "El dia de la semana es: viernes\n"
     ]
    }
   ],
   "source": [
    "#Codigo de la Practica 4\n",
    "semana = [\"lunes\", \"martes\", \"miercoles\", \"jueves\", \"viernes\"]\n",
    "for dia in semana:\n",
    "    print(\"El dia de la semana es:\", dia)\n",
    "    "
   ]
  },
  {
   "cell_type": "markdown",
   "id": "84d44155",
   "metadata": {},
   "source": [
    "## ✍️ Práctica 5: \n",
    "Mediante un bucle for, recorrer la lista semana (de lunes a viernes) y mostrar en un texto: \"el día 1 de la semana es lunes\", \"el día 2 de la semana es martes\", etc."
   ]
  },
  {
   "cell_type": "code",
   "execution_count": null,
   "id": "a3931847",
   "metadata": {},
   "outputs": [
    {
     "name": "stdout",
     "output_type": "stream",
     "text": [
      "El dia  1 de la semana es  lunes\n",
      "El dia  2 de la semana es  martes\n",
      "El dia  3 de la semana es  miercoles\n",
      "El dia  4 de la semana es  jueves\n",
      "El dia  5 de la semana es  viernes\n"
     ]
    }
   ],
   "source": [
    "#Codigo de la Practica 5\n",
    "semana = [\"lunes\", \"martes\", \"miercoles\", \"jueves\", \"viernes\"]\n",
    "iter=1\n",
    "for dia in semana:\n",
    "    print(\"El dia \", iter, \"de la semana es \", dia)\n",
    "    iter+=1 #Versión profesional\n",
    "    # iter = iter + 1  #Version amateur\n",
    "    "
   ]
  },
  {
   "cell_type": "markdown",
   "id": "b32f2617",
   "metadata": {},
   "source": [
    "## ✍️ Práctica 6: \n",
    "Aprovechando la lista semana, queremos ver un texto, mediante un bucle for, que diga:  \n",
    "\"El primer día de la semana es lunes\",  \n",
    "\"El segundo día de la semana es martes\", etc.  "
   ]
  },
  {
   "cell_type": "code",
   "execution_count": 3,
   "id": "c1bc6b7c",
   "metadata": {},
   "outputs": [
    {
     "name": "stdout",
     "output_type": "stream",
     "text": [
      "El primer dia de la semana es lunes\n",
      "El segundo dia de la semana es martes\n",
      "El tercer dia de la semana es miercoles\n",
      "El cuarto dia de la semana es jueves\n",
      "El quinto dia de la semana es viernes\n",
      "El primer dia de la semana es lunes\n",
      "El segundo dia de la semana es martes\n",
      "El tercer dia de la semana es miercoles\n",
      "El cuarto dia de la semana es jueves\n",
      "El quinto dia de la semana es viernes\n"
     ]
    }
   ],
   "source": [
    "#Codigo de la Practica 6\n",
    "semana = [\"lunes\", \"martes\", \"miercoles\", \"jueves\", \"viernes\"]\n",
    "iter=1\n",
    "for dia in semana:\n",
    "    if iter == 1:\n",
    "        numero = \"primer\"\n",
    "    elif iter == 2:\n",
    "        numero = \"segundo\"\n",
    "    elif iter == 3:\n",
    "        numero = \"tercer\"\n",
    "    elif iter == 4:\n",
    "        numero = \"cuarto\"\n",
    "    elif iter == 5:\n",
    "        numero = \"quinto\"\n",
    "    print(\"El\", numero, \"dia de la semana es\", dia)\n",
    "    iter+=1\n",
    "\n",
    "\n",
    "# Opción b de hacerlo mejor opcion\n",
    "\n",
    "semanab = [\"lunes\", \"martes\", \"miercoles\", \"jueves\", \"viernes\"]\n",
    "ordinalb = [\"primer\", \"segundo\", \"tercer\", \"cuarto\", \"quinto\"]\n",
    "\n",
    "iterb=0\n",
    "for diab in semanab:\n",
    "    print(\"El\", ordinalb[iterb], \"dia de la semana es\", diab)\n",
    "    iterb+=1\n",
    "\n"
   ]
  },
  {
   "cell_type": "markdown",
   "id": "5b037cf9",
   "metadata": {},
   "source": [
    "## ✍️ Práctica 7: \n",
    "Mediante un bucle for, recorrer una lista con los siguientes números [15, 37, 42, 18, 26, 64, 75], mostrando el texto:  \n",
    "\"El número es X\" en cada iteración."
   ]
  },
  {
   "cell_type": "code",
   "execution_count": 7,
   "id": "20af376d",
   "metadata": {},
   "outputs": [
    {
     "name": "stdout",
     "output_type": "stream",
     "text": [
      "El número es  15\n",
      "El número es  37\n",
      "El número es  42\n",
      "El número es  18\n",
      "El número es  26\n",
      "El número es  64\n",
      "El número es  75\n"
     ]
    }
   ],
   "source": [
    "#Codigo de la Practica 7\n",
    "for i in [15, 37, 42, 18, 26, 64, 75]:\n",
    "    print(\"El número es \", i)"
   ]
  },
  {
   "cell_type": "markdown",
   "id": "2da368f6",
   "metadata": {},
   "source": [
    "## ✍️ Práctica 8: \n",
    "Mediante un bucle for, recorrer una lista generada con range para ver los números del 6 al 23, mostrando el texto:  \n",
    "\"El número es X\" en cada iteración."
   ]
  },
  {
   "cell_type": "code",
   "execution_count": 10,
   "id": "f08061f2",
   "metadata": {},
   "outputs": [
    {
     "name": "stdout",
     "output_type": "stream",
     "text": [
      "El número es 6\n",
      "El número es 7\n",
      "El número es 8\n",
      "El número es 9\n",
      "El número es 10\n",
      "El número es 11\n",
      "El número es 12\n",
      "El número es 13\n",
      "El número es 14\n",
      "El número es 15\n",
      "El número es 16\n",
      "El número es 17\n",
      "El número es 18\n",
      "El número es 19\n",
      "El número es 20\n",
      "El número es 21\n",
      "El número es 22\n",
      "El número es 23\n"
     ]
    }
   ],
   "source": [
    "#Codigo de la Practica 8\n",
    "numeros = range (6,24)\n",
    "for numero in numeros:\n",
    "    print(\"El número es\", numero)"
   ]
  },
  {
   "cell_type": "markdown",
   "id": "6d18d446",
   "metadata": {},
   "source": [
    "## ✍️ Práctica 9: \n",
    "Mediante un bucle for, recorrer una lista generada con range para ver los números del 60 al 20, con un intervalo de 2 en 2, mostrando el texto:  \n",
    "\"El número es X\" en cada iteración."
   ]
  },
  {
   "cell_type": "code",
   "execution_count": 3,
   "id": "c9f02b85",
   "metadata": {},
   "outputs": [
    {
     "name": "stdout",
     "output_type": "stream",
     "text": [
      "El número es 60\n",
      "El número es 58\n",
      "El número es 56\n",
      "El número es 54\n",
      "El número es 52\n",
      "El número es 50\n",
      "El número es 48\n",
      "El número es 46\n",
      "El número es 44\n",
      "El número es 42\n",
      "El número es 40\n",
      "El número es 38\n",
      "El número es 36\n",
      "El número es 34\n",
      "El número es 32\n",
      "El número es 30\n",
      "El número es 28\n",
      "El número es 26\n",
      "El número es 24\n",
      "El número es 22\n",
      "El número es 20\n",
      "El número es 60\n",
      "El número es 58\n",
      "El número es 56\n",
      "El número es 54\n",
      "El número es 52\n",
      "El número es 50\n",
      "El número es 48\n",
      "El número es 46\n",
      "El número es 44\n",
      "El número es 42\n",
      "El número es 40\n",
      "El número es 38\n",
      "El número es 36\n",
      "El número es 34\n",
      "El número es 32\n",
      "El número es 30\n",
      "El número es 28\n",
      "El número es 26\n",
      "El número es 24\n",
      "El número es 22\n",
      "El número es 20\n"
     ]
    }
   ],
   "source": [
    "#Codigo de la Practica 9\n",
    "numeros = range (60,19,-2)\n",
    "for numero in numeros:\n",
    "    print(\"El número es\", numero)\n",
    "\n",
    "# Opción pro\n",
    "for valor in range (60,18,-2):\n",
    "    print(\"El número es\", valor)\n",
    "    "
   ]
  },
  {
   "cell_type": "markdown",
   "id": "b84ecdf5",
   "metadata": {},
   "source": [
    "## ✍️ Práctica 10: \n",
    "Mediante un bucle for, recorrer una lista con los meses del año, mostrando el texto:  \n",
    "\"El primer mes del año es enero\"."
   ]
  },
  {
   "cell_type": "code",
   "execution_count": 6,
   "id": "0112be10",
   "metadata": {},
   "outputs": [
    {
     "name": "stdout",
     "output_type": "stream",
     "text": [
      "El primer del año es enero\n",
      "El segundo del año es febrero\n",
      "El tercer del año es marzo\n",
      "El cuarto del año es mayo\n",
      "El quinto del año es junio\n",
      "El sexto del año es julio\n",
      "El septimo del año es agosto\n",
      "El octavo del año es septiembre\n",
      "El noveno del año es octubre\n",
      "El decimo del año es noviembre\n",
      "El oceavo del año es diciembre\n"
     ]
    },
    {
     "ename": "TypeError",
     "evalue": "unsupported operand type(s) for -: 'str' and 'int'",
     "output_type": "error",
     "traceback": [
      "\u001b[31m---------------------------------------------------------------------------\u001b[39m",
      "\u001b[31mTypeError\u001b[39m                                 Traceback (most recent call last)",
      "\u001b[36mCell\u001b[39m\u001b[36m \u001b[39m\u001b[32mIn[6]\u001b[39m\u001b[32m, line 16\u001b[39m\n\u001b[32m     13\u001b[39m ordinales = [\u001b[33m'\u001b[39m\u001b[33mprimer\u001b[39m\u001b[33m'\u001b[39m, \u001b[33m'\u001b[39m\u001b[33msegundo\u001b[39m\u001b[33m'\u001b[39m, \u001b[33m'\u001b[39m\u001b[33mtercer\u001b[39m\u001b[33m'\u001b[39m, \u001b[33m'\u001b[39m\u001b[33mcuarto\u001b[39m\u001b[33m'\u001b[39m, \u001b[33m'\u001b[39m\u001b[33mquinto\u001b[39m\u001b[33m'\u001b[39m, \n\u001b[32m     14\u001b[39m            \u001b[33m'\u001b[39m\u001b[33msexto\u001b[39m\u001b[33m'\u001b[39m, \u001b[33m'\u001b[39m\u001b[33mseptimo\u001b[39m\u001b[33m'\u001b[39m, \u001b[33m'\u001b[39m\u001b[33moctavo\u001b[39m\u001b[33m'\u001b[39m, \u001b[33m'\u001b[39m\u001b[33mnoveno\u001b[39m\u001b[33m'\u001b[39m, \u001b[33m'\u001b[39m\u001b[33mdecimo\u001b[39m\u001b[33m'\u001b[39m, \u001b[33m'\u001b[39m\u001b[33moceavo\u001b[39m\u001b[33m'\u001b[39m, \u001b[33m'\u001b[39m\u001b[33mdoceavo\u001b[39m\u001b[33m'\u001b[39m]\n\u001b[32m     15\u001b[39m \u001b[38;5;28;01mfor\u001b[39;00m valor \u001b[38;5;129;01min\u001b[39;00m \u001b[38;5;28mrange\u001b[39m(\u001b[32m1\u001b[39m,\u001b[32m13\u001b[39m):\n\u001b[32m---> \u001b[39m\u001b[32m16\u001b[39m     \u001b[38;5;28mprint\u001b[39m(\u001b[33m\"\u001b[39m\u001b[33mEl\u001b[39m\u001b[33m\"\u001b[39m, ordinales[\u001b[43mmes\u001b[49m\u001b[43m-\u001b[49m\u001b[32;43m1\u001b[39;49m], \u001b[33m\"\u001b[39m\u001b[33mes\u001b[39m\u001b[33m\"\u001b[39m, valores[mes-\u001b[32m1\u001b[39m])\n",
      "\u001b[31mTypeError\u001b[39m: unsupported operand type(s) for -: 'str' and 'int'"
     ]
    }
   ],
   "source": [
    "#Codigo de la Practica 10\n",
    "meses = ['enero', 'febrero', 'marzo', 'mayo', 'junio', \n",
    "         'julio', 'agosto', 'septiembre', 'octubre', 'noviembre', 'diciembre']\n",
    "ordinal = ['primer', 'segundo', 'tercer', 'cuarto', 'quinto', \n",
    "           'sexto', 'septimo', 'octavo', 'noveno', 'decimo', 'oceavo', 'doceavo']\n",
    "for i, mes in enumerate(meses):\n",
    "    print('El', ordinal[i], 'del año es', mes)\n",
    "\n",
    "\n",
    "#Solución profesor\n",
    "valores = ['enero', 'febrero', 'marzo', 'mayo', 'junio', \n",
    "         'julio', 'agosto', 'septiembre', 'octubre', 'noviembre', 'diciembre']\n",
    "ordinales = ['primer', 'segundo', 'tercer', 'cuarto', 'quinto', \n",
    "           'sexto', 'septimo', 'octavo', 'noveno', 'decimo', 'oceavo', 'doceavo']\n",
    "for valor in range(1,13):\n",
    "    print(\"El\", ordinales[mes-1], \"es\", valores[mes-1])"
   ]
  },
  {
   "cell_type": "markdown",
   "id": "735cab9b",
   "metadata": {},
   "source": [
    "## ✍️ Práctica 11: \n",
    "Con un bucle for, recorrer la lista [5, -8, 145, 75, 62, 37, -20, 41, 26] y clasificar los números en tramos de 30 en 30, empezando desde 0 y hasta 120. Se deberá mostrar un texto que diga:  \n",
    "\"El número 5 está comprendido entre 0-30\" y si no se encuentra dentro de ese rango, mostrar un mensaje que diga,  \n",
    "\"Fuera de intervalo\"."
   ]
  },
  {
   "cell_type": "code",
   "execution_count": 9,
   "id": "bebdc474",
   "metadata": {},
   "outputs": [
    {
     "name": "stdout",
     "output_type": "stream",
     "text": [
      "El número 5  está comprendido enttre 0 y 30\n",
      "Fuera de intervalo el número -8\n",
      "Fuera de intervalo el número 145\n",
      "El número 37  está comprendido enttre 30 y 60\n",
      "Fuera de intervalo el número -20\n",
      "El número 41  está comprendido enttre 30 y 60\n",
      "El número 26  está comprendido enttre 0 y 30\n"
     ]
    }
   ],
   "source": [
    "#Codigo de la Practica 11\n",
    "numeros = [5, -8, 145, 75, 62, 37, -20, 41, 26]\n",
    "for numero in numeros:\n",
    "    if numero <0 or numero> 120:\n",
    "        print('Fuera de intervalo el número', numero)\n",
    "    elif numero >=0 and numero <= 30:\n",
    "        print('El número', numero, \" está comprendido enttre 0 y 30\")\n",
    "    elif 30<numero<=60:\n",
    "        print('El número', numero, \" está comprendido enttre 30 y 60\")\n"
   ]
  },
  {
   "cell_type": "markdown",
   "id": "d8e47a09",
   "metadata": {},
   "source": [
    "## ✍️ Practica 12: \n",
    "Junta els elements d'una llista, que te per separat dia, mes i any amb una variable que contigui la data correcte 02/04/2025"
   ]
  }
 ],
 "metadata": {
  "kernelspec": {
   "display_name": ".venv",
   "language": "python",
   "name": "python3"
  },
  "language_info": {
   "codemirror_mode": {
    "name": "ipython",
    "version": 3
   },
   "file_extension": ".py",
   "mimetype": "text/x-python",
   "name": "python",
   "nbconvert_exporter": "python",
   "pygments_lexer": "ipython3",
   "version": "3.12.4"
  }
 },
 "nbformat": 4,
 "nbformat_minor": 5
}
