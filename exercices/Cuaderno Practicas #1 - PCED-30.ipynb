{
 "cells": [
  {
   "cell_type": "markdown",
   "id": "651f4cd4",
   "metadata": {},
   "source": [
    "## ✍️ Práctica 1: \n",
    "Crear una lista que se llame meses, que contenga los meses de enero a junio excepto abril. Añadiremos al final de la lista los meses de julio y agosto. Insertaremos en su lugar el mes de abril y añadiremos al final los meses de marzo y julio. Finalmente, eliminaremos los meses incorrectos, para que nos quede la lista en orden cronológico."
   ]
  },
  {
   "cell_type": "code",
   "execution_count": null,
   "id": "969c651b",
   "metadata": {},
   "outputs": [],
   "source": [
    "#Codigo de la Practica 1\n",
    "#Codigo de la Practica 1\n",
    "meses = [\"enero\", \"febrero\", \"marzo\", \"mayo\", \"junio\",]\n",
    "print(meses)\n",
    "meses.append(\"julio\")\n",
    "print(meses)\n",
    "meses.append(\"agosto\")\n",
    "print(meses)\n",
    "# Alternativa para agregar varios elementos a la vez\n",
    "meses.extend([\"septiembre\", \"octubre\"])\n",
    "print(meses)\n",
    "meses.insert(3, \"abril\")\n",
    "print(meses)\n",
    "meses.extend([\"marzo\", \"julio\"])\n",
    "print(meses)\n",
    "# para eliminar los últimos meses de la lista uso del con slizing\n",
    "del meses[10:]\n",
    "print(meses)\n",
    "\n"
   ]
  },
  {
   "cell_type": "markdown",
   "id": "c9b7f28d",
   "metadata": {},
   "source": [
    "## ✍️ Práctica 2: \n",
    "Mediante una estructura if...else, mostrar un mensaje que diga \"el número x es mayor que 20\" o \"el número x no es mayor que 20\", según si el valor de la variable, ajustado mediante un input, cumple la condición o no."
   ]
  },
  {
   "cell_type": "code",
   "execution_count": 24,
   "id": "c121804f",
   "metadata": {},
   "outputs": [
    {
     "name": "stdout",
     "output_type": "stream",
     "text": [
      "El número es igual a 20\n"
     ]
    }
   ],
   "source": [
    "#Codigo de la Practica 2\n",
    "X = input(\"Introduce un número: \")\n",
    "X = int(X)\n",
    "# Comprobamos si el número es mayor, menor o igual a 2\n",
    "if X > 20:\n",
    "    print(\"El número es mayor que 20\")\n",
    "elif X < 20:\n",
    "    print(\"El número es menor que 20\")\n",
    "else:\n",
    "    print(\"El número es igual a 20\")\n"
   ]
  },
  {
   "cell_type": "markdown",
   "id": "90a8bd59",
   "metadata": {},
   "source": [
    "## ✍️ Práctica 3: \n",
    "Lo mismo, pero para números decimales."
   ]
  },
  {
   "cell_type": "code",
   "execution_count": 25,
   "id": "9e1da051",
   "metadata": {},
   "outputs": [
    {
     "name": "stdout",
     "output_type": "stream",
     "text": [
      "El número es mayor que 20\n"
     ]
    }
   ],
   "source": [
    "#Codigo de la Practica 3\n",
    "X = input(\"Introduce un número con decimales: \")\n",
    "X = float(X)\n",
    "# Comprobamos si el número es mayor, menor o igual a 2\n",
    "if X > 20:\n",
    "    print(\"El número es mayor que 20\")\n",
    "elif X < 20:\n",
    "    print(\"El número es menor que 20\")\n",
    "else:\n",
    "    print(\"El número es igual a 20\")"
   ]
  },
  {
   "cell_type": "markdown",
   "id": "6076048f",
   "metadata": {},
   "source": [
    "## ✍️ Práctica 4: \n",
    "Mediante un bucle for, recorrer la lista semana (de lunes a viernes) y mostrar en un texto: \"el día de la semana es xxx\" en cada iteración."
   ]
  },
  {
   "cell_type": "code",
   "execution_count": null,
   "id": "9f50ebe0",
   "metadata": {},
   "outputs": [],
   "source": [
    "#Codigo de la Practica 4"
   ]
  },
  {
   "cell_type": "markdown",
   "id": "84d44155",
   "metadata": {},
   "source": [
    "## ✍️ Práctica 5: \n",
    "Mediante un bucle for, recorrer la lista semana (de lunes a viernes) y mostrar en un texto: \"el día 1 de la semana es lunes\", \"el día 2 de la semana es martes\", etc."
   ]
  },
  {
   "cell_type": "code",
   "execution_count": null,
   "id": "a3931847",
   "metadata": {},
   "outputs": [],
   "source": [
    "#Codigo de la Practica 5"
   ]
  },
  {
   "cell_type": "markdown",
   "id": "b32f2617",
   "metadata": {},
   "source": [
    "## ✍️ Práctica 6: \n",
    "Aprovechando la lista semana, queremos ver un texto, mediante un bucle for, que diga:  \n",
    "\"El primer día de la semana es lunes\",  \n",
    "\"El segundo día de la semana es martes\", etc.  "
   ]
  },
  {
   "cell_type": "code",
   "execution_count": null,
   "id": "c1bc6b7c",
   "metadata": {},
   "outputs": [],
   "source": [
    "#Codigo de la Practica 6"
   ]
  },
  {
   "cell_type": "markdown",
   "id": "5b037cf9",
   "metadata": {},
   "source": [
    "## ✍️ Práctica 7: \n",
    "Mediante un bucle for, recorrer una lista con los siguientes números [15, 37, 42, 18, 26, 64, 75], mostrando el texto:  \n",
    "\"El número es X\" en cada iteración."
   ]
  },
  {
   "cell_type": "code",
   "execution_count": null,
   "id": "20af376d",
   "metadata": {},
   "outputs": [],
   "source": [
    "#Codigo de la Practica 7"
   ]
  },
  {
   "cell_type": "markdown",
   "id": "2da368f6",
   "metadata": {},
   "source": [
    "## ✍️ Práctica 8: \n",
    "Mediante un bucle for, recorrer una lista generada con range para ver los números del 6 al 23, mostrando el texto:  \n",
    "\"El número es X\" en cada iteración."
   ]
  },
  {
   "cell_type": "code",
   "execution_count": null,
   "id": "f08061f2",
   "metadata": {},
   "outputs": [],
   "source": [
    "#Codigo de la Practica 8"
   ]
  },
  {
   "cell_type": "markdown",
   "id": "6d18d446",
   "metadata": {},
   "source": [
    "## ✍️ Práctica 9: \n",
    "Mediante un bucle for, recorrer una lista generada con range para ver los números del 60 al 20, con un intervalo de 2 en 2, mostrando el texto:  \n",
    "\"El número es X\" en cada iteración."
   ]
  },
  {
   "cell_type": "code",
   "execution_count": null,
   "id": "c9f02b85",
   "metadata": {},
   "outputs": [],
   "source": [
    "#Codigo de la Practica 9"
   ]
  },
  {
   "cell_type": "markdown",
   "id": "b84ecdf5",
   "metadata": {},
   "source": [
    "## ✍️ Práctica 10: \n",
    "Mediante un bucle for, recorrer una lista con los meses del año, mostrando el texto:  \n",
    "\"El primer mes del año es enero\"."
   ]
  },
  {
   "cell_type": "code",
   "execution_count": null,
   "id": "0112be10",
   "metadata": {},
   "outputs": [],
   "source": [
    "#Codigo de la Practica 10"
   ]
  },
  {
   "cell_type": "markdown",
   "id": "735cab9b",
   "metadata": {},
   "source": [
    "## ✍️ Práctica 11: \n",
    "Con un bucle for, recorrer la lista [5, -8, 145, 75, 62, 37, -20, 41, 26] y clasificar los números en tramos de 30 en 30, empezando desde 0 y hasta 120. Se deberá mostrar un texto que diga:  \n",
    "\"El número 5 está comprendido entre 0-30\" y si no se encuentra dentro de ese rango, mostrar un mensaje que diga,  \n",
    "\"Fuera de intervalo\"."
   ]
  },
  {
   "cell_type": "code",
   "execution_count": null,
   "id": "bebdc474",
   "metadata": {},
   "outputs": [],
   "source": [
    "#Codigo de la Practica 11"
   ]
  },
  {
   "cell_type": "markdown",
   "id": "d8e47a09",
   "metadata": {},
   "source": [
    "## ✍️ Practica 12: \n",
    "Junta els elements d'una llista, que te per separat dia, mes i any amb una variable que contigui la data correcte 02/04/2025"
   ]
  }
 ],
 "metadata": {
  "kernelspec": {
   "display_name": ".venv",
   "language": "python",
   "name": "python3"
  },
  "language_info": {
   "codemirror_mode": {
    "name": "ipython",
    "version": 3
   },
   "file_extension": ".py",
   "mimetype": "text/x-python",
   "name": "python",
   "nbconvert_exporter": "python",
   "pygments_lexer": "ipython3",
   "version": "3.12.4"
  }
 },
 "nbformat": 4,
 "nbformat_minor": 5
}
